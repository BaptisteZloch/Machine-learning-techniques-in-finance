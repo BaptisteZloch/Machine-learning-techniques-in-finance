{
 "cells": [
  {
   "cell_type": "code",
   "execution_count": 51,
   "metadata": {},
   "outputs": [],
   "source": [
    "from warnings import filterwarnings\n",
    "\n",
    "filterwarnings(\"ignore\")\n",
    "\n",
    "import pandas as pd\n",
    "import numpy as np\n",
    "from pyts.image import GramianAngularField\n",
    "from matplotlib import pyplot as plt\n",
    "\n",
    "from ta import add_all_ta_features\n",
    "\n",
    "from multiprocessing import Pool, cpu_count\n",
    "\n",
    "from modules.data_fetcher import download_historical_data\n"
   ]
  },
  {
   "cell_type": "code",
   "execution_count": 52,
   "metadata": {},
   "outputs": [
    {
     "name": "stdout",
     "output_type": "stream",
     "text": [
      "(871, 6)\n"
     ]
    },
    {
     "data": {
      "text/html": [
       "<div>\n",
       "<style scoped>\n",
       "    .dataframe tbody tr th:only-of-type {\n",
       "        vertical-align: middle;\n",
       "    }\n",
       "\n",
       "    .dataframe tbody tr th {\n",
       "        vertical-align: top;\n",
       "    }\n",
       "\n",
       "    .dataframe thead th {\n",
       "        text-align: right;\n",
       "    }\n",
       "</style>\n",
       "<table border=\"1\" class=\"dataframe\">\n",
       "  <thead>\n",
       "    <tr style=\"text-align: right;\">\n",
       "      <th></th>\n",
       "      <th>Open</th>\n",
       "      <th>Close</th>\n",
       "      <th>High</th>\n",
       "      <th>Low</th>\n",
       "      <th>Amount</th>\n",
       "      <th>Volume</th>\n",
       "    </tr>\n",
       "    <tr>\n",
       "      <th>Date</th>\n",
       "      <th></th>\n",
       "      <th></th>\n",
       "      <th></th>\n",
       "      <th></th>\n",
       "      <th></th>\n",
       "      <th></th>\n",
       "    </tr>\n",
       "  </thead>\n",
       "  <tbody>\n",
       "    <tr>\n",
       "      <th>2020-11-20 01:00:00</th>\n",
       "      <td>17802.8</td>\n",
       "      <td>18659.4</td>\n",
       "      <td>18808.6</td>\n",
       "      <td>17747.4</td>\n",
       "      <td>2195.473348</td>\n",
       "      <td>4.032508e+07</td>\n",
       "    </tr>\n",
       "    <tr>\n",
       "      <th>2020-11-21 01:00:00</th>\n",
       "      <td>18659.4</td>\n",
       "      <td>18702.2</td>\n",
       "      <td>18964.9</td>\n",
       "      <td>18322.3</td>\n",
       "      <td>2063.264695</td>\n",
       "      <td>3.856744e+07</td>\n",
       "    </tr>\n",
       "    <tr>\n",
       "      <th>2020-11-22 01:00:00</th>\n",
       "      <td>18702.2</td>\n",
       "      <td>18416.9</td>\n",
       "      <td>18749.1</td>\n",
       "      <td>17622.2</td>\n",
       "      <td>2373.600444</td>\n",
       "      <td>4.350419e+07</td>\n",
       "    </tr>\n",
       "    <tr>\n",
       "      <th>2020-11-23 01:00:00</th>\n",
       "      <td>18415.1</td>\n",
       "      <td>18370.6</td>\n",
       "      <td>18762.0</td>\n",
       "      <td>18009.0</td>\n",
       "      <td>2338.730168</td>\n",
       "      <td>4.307173e+07</td>\n",
       "    </tr>\n",
       "    <tr>\n",
       "      <th>2020-11-24 01:00:00</th>\n",
       "      <td>18370.3</td>\n",
       "      <td>19153.2</td>\n",
       "      <td>19412.5</td>\n",
       "      <td>17999.9</td>\n",
       "      <td>3392.945212</td>\n",
       "      <td>6.402286e+07</td>\n",
       "    </tr>\n",
       "  </tbody>\n",
       "</table>\n",
       "</div>"
      ],
      "text/plain": [
       "                        Open    Close     High      Low       Amount  \\\n",
       "Date                                                                   \n",
       "2020-11-20 01:00:00  17802.8  18659.4  18808.6  17747.4  2195.473348   \n",
       "2020-11-21 01:00:00  18659.4  18702.2  18964.9  18322.3  2063.264695   \n",
       "2020-11-22 01:00:00  18702.2  18416.9  18749.1  17622.2  2373.600444   \n",
       "2020-11-23 01:00:00  18415.1  18370.6  18762.0  18009.0  2338.730168   \n",
       "2020-11-24 01:00:00  18370.3  19153.2  19412.5  17999.9  3392.945212   \n",
       "\n",
       "                           Volume  \n",
       "Date                               \n",
       "2020-11-20 01:00:00  4.032508e+07  \n",
       "2020-11-21 01:00:00  3.856744e+07  \n",
       "2020-11-22 01:00:00  4.350419e+07  \n",
       "2020-11-23 01:00:00  4.307173e+07  \n",
       "2020-11-24 01:00:00  6.402286e+07  "
      ]
     },
     "execution_count": 52,
     "metadata": {},
     "output_type": "execute_result"
    }
   ],
   "source": [
    "symbol = \"BTC-USDT\"\n",
    "\n",
    "df_BTC = download_historical_data(symbol, \"1day\").loc[\"2020-11-20\":]\n",
    "\n",
    "# df_BTC[\"Log_Close\"] = np.log(df_BTC.Close.apply(lambda x: 1.0 if x == 0.0 else x))\n",
    "# df_BTC[\"Returns\"] = df_BTC.Close.pct_change()\n",
    "# df_BTC[\"Log_Returns\"] = df_BTC.Log_Close.pct_change()\n",
    "# df_BTC[\"Log_Volume\"] = np.log(\n",
    "#     np.abs(df_BTC.Volume.apply(lambda x: 1.0 if x == 0.0 else x))\n",
    "# )\n",
    "# df_BTC[\"Vol20\"] = df_BTC.Log_Returns.rolling(20).std()\n",
    "# df_BTC[\"EMA20\"] = df_BTC.Close.ewm(20).mean()\n",
    "\n",
    "\n",
    "df_BTC.drop(columns=['Timestamp'],inplace=True)\n",
    "df_BTC.dropna(inplace=True)\n",
    "print(df_BTC.shape)\n",
    "df_BTC.head()"
   ]
  },
  {
   "cell_type": "code",
   "execution_count": null,
   "metadata": {},
   "outputs": [],
   "source": [
    "add_all_ta_features(df_BTC,df_BTC)"
   ]
  },
  {
   "cell_type": "code",
   "execution_count": 43,
   "metadata": {},
   "outputs": [
    {
     "data": {
      "text/plain": [
       "(50, 150)"
      ]
     },
     "execution_count": 43,
     "metadata": {},
     "output_type": "execute_result"
    }
   ],
   "source": [
    "from pyts.datasets import load_gunpoint\n",
    "from pyts.image import GramianAngularField\n",
    "\n",
    "X, X_test, y, y_test = load_gunpoint(return_X_y=True)\n",
    "X.shape"
   ]
  },
  {
   "cell_type": "code",
   "execution_count": 44,
   "metadata": {},
   "outputs": [
    {
     "data": {
      "text/plain": [
       "((50, 150),\n",
       " array([[-0.6478854 , -0.64199155, -0.63818632, ..., -0.64042873,\n",
       "         -0.63866571, -0.63865722],\n",
       "        [-0.64442658, -0.64540093, -0.64705511, ..., -0.6349345 ,\n",
       "         -0.6344968 , -0.63159565],\n",
       "        [-0.77835282, -0.77827907, -0.77715084, ..., -0.70419626,\n",
       "         -0.70760524, -0.7071202 ],\n",
       "        ...,\n",
       "        [-0.77912617, -0.77837863, -0.7757449 , ..., -0.50500603,\n",
       "         -0.50373099, -0.50438486],\n",
       "        [-0.70303339, -0.70261754, -0.70250356, ..., -0.64113375,\n",
       "         -0.64140622, -0.64210896],\n",
       "        [-1.4357199 , -1.4322717 , -1.4329285 , ..., -1.4354619 ,\n",
       "         -1.4352821 , -1.4308845 ]]))"
      ]
     },
     "execution_count": 44,
     "metadata": {},
     "output_type": "execute_result"
    }
   ],
   "source": [
    "X.shape, X"
   ]
  },
  {
   "cell_type": "code",
   "execution_count": 45,
   "metadata": {},
   "outputs": [
    {
     "data": {
      "text/plain": [
       "((200, 12),\n",
       " array([[1.84563000e+04, 1.94012000e+04, 1.95200000e+04, ...,\n",
       "         1.94673447e+01, 4.13176689e-03, 2.06318643e+04],\n",
       "        [1.94012000e+04, 1.92892000e+04, 1.94944000e+04, ...,\n",
       "         1.92403618e+01, 4.13170737e-03, 2.05679279e+04],\n",
       "        [1.92892000e+04, 1.89206000e+04, 1.93128000e+04, ...,\n",
       "         1.92486521e+01, 4.14404762e-03, 2.04894837e+04],\n",
       "        ...,\n",
       "        [2.80303000e+04, 2.79060000e+04, 2.81018000e+04, ...,\n",
       "         1.79501345e+01, 2.20647519e-03, 2.60995164e+04],\n",
       "        [2.79060000e+04, 2.80121000e+04, 2.81526000e+04, ...,\n",
       "         1.72521900e+01, 2.03843578e-03, 2.61905918e+04],\n",
       "        [2.79392000e+04, 2.78974000e+04, 2.80799000e+04, ...,\n",
       "         1.67672854e+01, 2.03070830e-03, 2.62718684e+04]]))"
      ]
     },
     "execution_count": 45,
     "metadata": {},
     "output_type": "execute_result"
    }
   ],
   "source": [
    "df_BTC.iloc[-200:].values.shape, df_BTC.iloc[-200:].values"
   ]
  },
  {
   "cell_type": "code",
   "execution_count": 46,
   "metadata": {},
   "outputs": [
    {
     "data": {
      "text/plain": [
       "(50, 30, 30)"
      ]
     },
     "execution_count": 46,
     "metadata": {},
     "output_type": "execute_result"
    }
   ],
   "source": [
    "transformer = GramianAngularField(flatten=False)\n",
    "X_new = transformer.transform(X[:,:30])\n",
    "X_new.shape"
   ]
  },
  {
   "cell_type": "code",
   "execution_count": 47,
   "metadata": {},
   "outputs": [
    {
     "data": {
      "text/plain": [
       "(200, 12, 12)"
      ]
     },
     "execution_count": 47,
     "metadata": {},
     "output_type": "execute_result"
    }
   ],
   "source": [
    "transformer = GramianAngularField(flatten=False)\n",
    "X_new = transformer.transform(df_BTC.iloc[-200:].values)\n",
    "X_new.shape"
   ]
  },
  {
   "cell_type": "code",
   "execution_count": 50,
   "metadata": {},
   "outputs": [
    {
     "data": {
      "text/plain": [
       "[]"
      ]
     },
     "execution_count": 50,
     "metadata": {},
     "output_type": "execute_result"
    },
    {
     "data": {
      "image/png": "[encoded data removed]",
      "text/plain": [
       "<Figure size 640x480 with 1 Axes>"
      ]
     },
     "metadata": {},
     "output_type": "display_data"
    }
   ],
   "source": [
    "\n",
    "# gadf = GramianAngularField(image_size=60, method='difference')\n",
    "# X_gadf = gadf.fit_transform(df_BTC.drop(columns=['Timestamp']).iloc[-200:].values)\n",
    "# X_gadf\n",
    "\n",
    "fig = plt.figure()\n",
    "ax = plt.subplot(111)\n",
    "ax.imshow(X_new[10], cmap='rainbow', origin='lower')\n",
    "ax.set_title('')\n",
    "ax.set_xticks([])\n",
    "ax.set_yticks([])"
   ]
  },
  {
   "cell_type": "code",
   "execution_count": null,
   "metadata": {},
   "outputs": [],
   "source": [
    "\n",
    "\n",
    "gadf = GramianAngularField(image_size=60, method='difference')\n",
    "X_gadf = gadf.fit_transform(X)\n",
    "\n",
    "def convert_img(idx):\n",
    "    fig = plt.figure()\n",
    "    ax = plt.subplot(111)\n",
    "    try:\n",
    "        fname = f'imgs/{idx}.png'\n",
    "        if os.path.exists(fname):\n",
    "            return\n",
    "    except:\n",
    "        return\n",
    "    ax.imshow(X_gadf[idx], cmap='rainbow', origin='lower')\n",
    "    ax.set_title('')\n",
    "    ax.set_xticks([])\n",
    "    ax.set_yticks([])\n",
    "    fig.savefig(fname, bbox_inches='tight')\n",
    "    \n",
    "p = Pool(cpu_count())\n",
    "_ = p.map(convert_img, (i for i in range(1070)))"
   ]
  },
  {
   "cell_type": "code",
   "execution_count": null,
   "metadata": {},
   "outputs": [],
   "source": [
    "data = (ImageList.from_csv('imgs', 'labels.csv')\n",
    "                 .split_by_idxs(list(range(700)), list(range(700, 900)))\n",
    "                 .label_from_df()\n",
    "                 .databunch())\n",
    "\n",
    "learner = cnn_learner(data, models.resnet34, loss_func=mae, metrics=[r2_score])\n",
    "learner.model[1]\n",
    "# Sequential(\n",
    "#   (0): AdaptiveConcatPool2d(\n",
    "#     (ap): AdaptiveAvgPool2d(output_size=1)\n",
    "#     (mp): AdaptiveMaxPool2d(output_size=1)\n",
    "#   )\n",
    "#   (1): Flatten()\n",
    "#   (2): BatchNorm1d(1024, eps=1e-05, momentum=0.1, affine=True, track_running_stats=True)\n",
    "#   (3): Dropout(p=0.25, inplace=False)\n",
    "#   (4): Linear(in_features=1024, out_features=512, bias=True)\n",
    "#   (5): ReLU(inplace=True)\n",
    "#   (6): BatchNorm1d(512, eps=1e-05, momentum=0.1, affine=True, track_running_stats=True)\n",
    "#   (7): Dropout(p=0.5, inplace=False)\n",
    "#   (8): Linear(in_features=512, out_features=1, bias=True)\n",
    "# )"
   ]
  }
 ],
 "metadata": {
  "kernelspec": {
   "display_name": ".venv",
   "language": "python",
   "name": "python3"
  },
  "language_info": {
   "codemirror_mode": {
    "name": "ipython",
    "version": 3
   },
   "file_extension": ".py",
   "mimetype": "text/x-python",
   "name": "python",
   "nbconvert_exporter": "python",
   "pygments_lexer": "ipython3",
   "version": "3.10.6"
  },
  "orig_nbformat": 4
 },
 "nbformat": 4,
 "nbformat_minor": 2
}
