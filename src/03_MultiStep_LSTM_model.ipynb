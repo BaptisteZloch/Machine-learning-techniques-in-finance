{
 "cells": [
  {
   "cell_type": "code",
   "execution_count": 1,
   "metadata": {},
   "outputs": [
    {
     "name": "stderr",
     "output_type": "stream",
     "text": [
      "2023-03-13 13:59:36.932157: I tensorflow/core/platform/cpu_feature_guard.cc:193] This TensorFlow binary is optimized with oneAPI Deep Neural Network Library (oneDNN) to use the following CPU instructions in performance-critical operations:  AVX2 FMA\n",
      "To enable them in other operations, rebuild TensorFlow with the appropriate compiler flags.\n",
      "2023-03-13 13:59:37.774931: W tensorflow/compiler/xla/stream_executor/platform/default/dso_loader.cc:64] Could not load dynamic library 'libcudart.so.11.0'; dlerror: libcudart.so.11.0: cannot open shared object file: No such file or directory\n",
      "2023-03-13 13:59:37.775009: I tensorflow/compiler/xla/stream_executor/cuda/cudart_stub.cc:29] Ignore above cudart dlerror if you do not have a GPU set up on your machine.\n",
      "2023-03-13 13:59:42.722827: W tensorflow/compiler/xla/stream_executor/platform/default/dso_loader.cc:64] Could not load dynamic library 'libnvinfer.so.7'; dlerror: libnvinfer.so.7: cannot open shared object file: No such file or directory\n",
      "2023-03-13 13:59:42.723121: W tensorflow/compiler/xla/stream_executor/platform/default/dso_loader.cc:64] Could not load dynamic library 'libnvinfer_plugin.so.7'; dlerror: libnvinfer_plugin.so.7: cannot open shared object file: No such file or directory\n",
      "2023-03-13 13:59:42.723136: W tensorflow/compiler/tf2tensorrt/utils/py_utils.cc:38] TF-TRT Warning: Cannot dlopen some TensorRT libraries. If you would like to use Nvidia GPU with TensorRT, please make sure the missing libraries mentioned above are installed properly.\n"
     ]
    }
   ],
   "source": [
    "import warnings\n",
    "\n",
    "warnings.filterwarnings(\"ignore\")\n",
    "\n",
    "from concurrent.futures import ThreadPoolExecutor, as_completed, ProcessPoolExecutor\n",
    "import numpy as np\n",
    "import pandas as pd\n",
    "\n",
    "# ML/DL\n",
    "import tensorflow as tf\n",
    "from sklearn.preprocessing import MinMaxScaler, StandardScaler\n",
    "from sklearn.model_selection import train_test_split\n",
    "\n",
    "import plotly.graph_objects as go\n",
    "from plotly.subplots import make_subplots\n",
    "from random import randint\n",
    "import matplotlib.pyplot as plt\n",
    "\n",
    "from quant_invest_lab.data_provider import download_crypto_historical_data"
   ]
  },
  {
   "cell_type": "code",
   "execution_count": 23,
   "metadata": {},
   "outputs": [
    {
     "name": "stdout",
     "output_type": "stream",
     "text": [
      "Total currencies : 80\n"
     ]
    }
   ],
   "source": [
    "from scipy.signal import savgol_filter\n",
    "\n",
    "INPUT_STEPS = 30  # Step as input\n",
    "COVERAGE_STEPS = 7  # Step in common between input and output\n",
    "OUTPUT_STEPS = 14  # Output steps\n",
    "\n",
    "OUTPUT_SIZE = COVERAGE_STEPS + OUTPUT_STEPS\n",
    "BATCH_SIZE = 64\n",
    "LABEL_COL = \"Close_denoised\"\n",
    "\n",
    "currencies = [\n",
    "    \"BTC-USDT\",\n",
    "    \"ETH-USDT\",\n",
    "    \"ADA-USDT\",\n",
    "    \"AAVE-USDT\",\n",
    "    \"ALGO-USDT\",\n",
    "    \"EGLD-USDT\",\n",
    "    \"LINK-USDT\",\n",
    "    \"DOT-USDT\",\n",
    "    \"SOL-USDT\",\n",
    "    \"UNI-USDT\",\n",
    "    \"XRP-USDT\",\n",
    "    \"AVAX-USDT\",\n",
    "    \"AXS-USDT\",\n",
    "    \"NEAR-USDT\",\n",
    "    \"MATIC-USDT\",\n",
    "    \"NKN-USDT\",\n",
    "    \"LOOM-BTC\",\n",
    "    \"GEM-USDT\",\n",
    "    \"CUSD-USDT\",\n",
    "    \"LTC3L-USDT\",\n",
    "    \"OAS-USDT\",\n",
    "    \"NEO-BTC\",\n",
    "    \"KNC-USDT\",\n",
    "    \"GRIN-BTC\",\n",
    "    \"LYM-USDT\",\n",
    "    \"NIM-ETH\",\n",
    "    \"SUTER-BTC\",\n",
    "    \"NULS-BTC\",\n",
    "    \"HAI-USDT\",\n",
    "    \"MITX-USDT\",\n",
    "    \"PDEX-USDT\",\n",
    "    \"HTR-BTC\",\n",
    "    \"FLAME-USDT\",\n",
    "    \"EPX-USDT\",\n",
    "    \"PUNDIX-BTC\",\n",
    "    \"AOG-USDT\",\n",
    "    \"VET-BTC\",\n",
    "    \"ATOM3L-USDT\",\n",
    "    \"TWT-BTC\",\n",
    "    \"AGLD-USDT\",\n",
    "    \"KAI-ETH\",\n",
    "    \"YLD-USDT\",\n",
    "    \"CPC-ETH\",\n",
    "    \"COTI-BTC\",\n",
    "    \"CWS-USDT\",\n",
    "    \"PEEL-BTC\",\n",
    "    \"SENSO-USDT\",\n",
    "    \"ALICE-USDT\",\n",
    "    \"UNIC-USDT\",\n",
    "    \"SYS-BTC\",\n",
    "    \"IHC-USDT\",\n",
    "    \"PNT-BTC\",\n",
    "    \"BULL-USDT\",\n",
    "    \"BOSON-ETH\",\n",
    "    \"ROOBEE-BTC\",\n",
    "    \"SWASH-USDT\",\n",
    "    \"XEC-USDT\",\n",
    "    \"BCH-USDC\",\n",
    "    \"ATOM3S-USDT\",\n",
    "    \"CHSB-BTC\",\n",
    "    \"LINA-USDT\",\n",
    "    \"ETC-USDT\",\n",
    "    \"RUNE-USDT\",\n",
    "    \"MPLX-USDT\",\n",
    "    \"TRAC-BTC\",\n",
    "    \"HYDRA-USDT\",\n",
    "    \"ASTR-USDT\",\n",
    "    \"WBTC-ETH\",\n",
    "    \"CSIX-ETH\",\n",
    "    \"BCH-USDT\",\n",
    "    \"NGM-USDT\",\n",
    "    \"JAR-USDT\",\n",
    "    \"TONE-USDT\",\n",
    "    \"POSI-USDT\",\n",
    "    \"XDB-BTC\",\n",
    "    \"EOS3L-USDT\",\n",
    "    \"HYVE-BTC\",\n",
    "    \"RUNE-USDC\",\n",
    "    \"ETC-USDC\",\n",
    "    \"KAVA-USDT\",\n",
    "]\n",
    "print(f\"Total currencies : {len(currencies)}\")\n",
    "\n",
    "\n",
    "def get_currency(symbol: str):\n",
    "    df = download_crypto_historical_data(symbol, \"12hour\")\n",
    "    df[\"Returns\"] = df.Close.pct_change()\n",
    "    df.dropna(inplace=True)\n",
    "    df.drop(\n",
    "        columns=[\n",
    "            \"Timestamp\",\n",
    "        ],\n",
    "        inplace=True,\n",
    "    )  #'Close','Open','High','Low'\n",
    "    df[\"Close_denoised\"] = savgol_filter(df.Close.values, 30, 2, mode=\"nearest\")\n",
    "    print(f\"{symbol} : {df.shape}\")\n",
    "    return df.dropna()\n",
    "\n",
    "\n",
    "def normalize_and_split_sequence(\n",
    "    input_dataframe: pd.DataFrame,\n",
    "    look_back: int = 60,\n",
    "    forecast_horizon: int = 20,\n",
    "    coverage: int = 20,\n",
    "    column_labels: str | list[str] = \"Close\",\n",
    "):\n",
    "    features_scaled = StandardScaler().fit_transform(\n",
    "        input_dataframe.drop(columns=[column_labels])\n",
    "    )\n",
    "    labels_scaled = MinMaxScaler().fit_transform(\n",
    "        input_dataframe[column_labels].values.reshape(-1, 1)\n",
    "    )\n",
    "\n",
    "    X, y = [], []\n",
    "    for i in range(len(input_dataframe)):\n",
    "        lag_end = i + look_back\n",
    "        forecast_end = lag_end + forecast_horizon\n",
    "        if forecast_end > len(input_dataframe):\n",
    "            break\n",
    "        X.append(features_scaled[i:lag_end])\n",
    "        y.append(labels_scaled[lag_end - coverage : forecast_end])\n",
    "    res = {\"X\": np.array(X), \"y\": np.array(y)}\n",
    "    return res\n",
    "\n",
    "\n",
    "def main(symbol: str):\n",
    "    return normalize_and_split_sequence(\n",
    "        get_currency(symbol),\n",
    "        INPUT_STEPS,\n",
    "        OUTPUT_STEPS,\n",
    "        COVERAGE_STEPS,\n",
    "        column_labels=LABEL_COL,\n",
    "    )"
   ]
  },
  {
   "cell_type": "code",
   "execution_count": 24,
   "metadata": {},
   "outputs": [
    {
     "name": "stdout",
     "output_type": "stream",
     "text": [
      "UNI-USDT : (1815, 8)SOL-USDT : (1173, 8)\n",
      "\n",
      "ALGO-USDT : (2723, 8)AAVE-USDT : (1745, 8)\n",
      "BTC-USDT : (3795, 8)\n",
      "\n",
      "ADA-USDT : (2697, 8)DOT-USDT : (1868, 8)LINK-USDT : (1871, 8)\n",
      "ETH-USDT : (3795, 8)\n",
      "EGLD-USDT : (1091, 8)\n",
      "\n",
      "\n",
      "XRP-USDT : (3035, 8)\n",
      "AVAX-USDT : (1477, 8)\n",
      "AXS-USDT : (1211, 8)\n",
      "NEAR-USDT : (1225, 8)\n",
      "MATIC-USDT : (1339, 8)\n",
      "NKN-USDT : (1089, 8)\n",
      "CUSD-USDT : (1341, 8)\n",
      "KNC-USDT : (643, 8)\n",
      "OAS-USDT : (183, 8)\n",
      "GEM-USDT : (307, 8)\n",
      "LTC3L-USDT : (1297, 8)\n",
      "LYM-USDT : (3246, 8)\n",
      "GRIN-BTC : (3018, 8)\n",
      "LOOM-BTC : (3565, 8)\n",
      "NEO-BTC : (3793, 8)\n",
      "FLAME-USDT : (1030, 8)\n",
      "HAI-USDT : (1381, 8)\n",
      "EPX-USDT : (637, 8)HTR-BTC : (1483, 8)PUNDIX-BTC : (1407, 8)\n",
      "\n",
      "NIM-ETH : (2767, 8)\n",
      "\n",
      "PDEX-USDT : (1392, 8)\n",
      "MITX-USDT : (1505, 8)\n",
      "SUTER-BTC : (2183, 8)\n",
      "NULS-BTC : (3574, 8)\n",
      "TWT-BTC : (963, 8)\n",
      "CWS-USDT : (1351, 8)\n",
      "ATOM3L-USDT : (1041, 8)AGLD-USDT : (1031, 8)\n",
      "YLD-USDT : (1022, 8)\n",
      "\n",
      "AOG-USDT : (328, 8)\n",
      "COTI-BTC : (2756, 8)\n",
      "KAI-ETH : (1887, 8)\n",
      "CPC-ETH : (3089, 8)\n",
      "VET-BTC : (3369, 8)\n",
      "SYS-BTC : (639, 8)\n",
      "IHC-USDT : (553, 8)PEEL-BTC : (373, 8)\n",
      "\n",
      "PNT-BTC : (1141, 8)\n",
      "UNIC-USDT : (933, 8)\n",
      "BULL-USDT : (738, 8)BOSON-ETH : (1407, 8)\n",
      "\n",
      "ALICE-USDT : (1073, 8)\n",
      "ROOBEE-BTC : (2489, 8)SENSO-USDT : (2177, 8)\n",
      "\n",
      "SWASH-USDT : (997, 8)\n",
      "RUNE-USDT : (1063, 8)ATOM3S-USDT : (1041, 8)\n",
      "\n",
      "HYDRA-USDT : (1577, 8)\n",
      "MPLX-USDT : (348, 8)\n",
      "BCH-USDC : (1577, 8)XEC-USDT : (911, 8)\n",
      "\n",
      "TRAC-BTC : (3611, 8)\n",
      "ETC-USDT : (3156, 8)\n",
      "LINA-USDT : (921, 8)\n",
      "CSIX-ETH : (42, 8)\n",
      "POSI-USDT : (643, 8)\n",
      "TONE-USDT : (1021, 8)BCH-USDT : (1695, 8)\n",
      "NGM-USDT : (1245, 8)\n",
      "\n",
      "WBTC-ETH : (1589, 8)\n",
      "ASTR-USDT : (835, 8)\n",
      "JAR-USDT : (2725, 8)\n",
      "XDB-BTC : (2051, 8)\n",
      "EOS3L-USDT : (1311, 8)\n",
      "HYVE-BTC : (1323, 8)\n",
      "ETC-USDC : (427, 8)\n",
      "RUNE-USDC : (575, 8)\n",
      "KAVA-USDT : (949, 8)\n"
     ]
    }
   ],
   "source": [
    "x_n_y = []\n",
    "with ProcessPoolExecutor(max_workers=10) as executor:\n",
    "    processes = [executor.submit(main, cur) for cur in currencies]\n",
    "\n",
    "for task in as_completed(processes):\n",
    "    x_n_y.append(task.result())\n",
    "\n",
    "print(\"Splitting done !\")\n",
    "\n",
    "X = np.vstack(tuple([x[\"X\"] for x in x_n_y]))\n",
    "y = np.vstack(tuple([x[\"y\"] for x in x_n_y]))\n",
    "X.shape, y.shape"
   ]
  },
  {
   "attachments": {},
   "cell_type": "markdown",
   "metadata": {},
   "source": [
    "# Recurrent Neural Networks\n"
   ]
  },
  {
   "cell_type": "code",
   "execution_count": 4,
   "metadata": {},
   "outputs": [],
   "source": [
    "X_train, X_test, y_train, y_test = train_test_split(X, y, test_size=0.33)\n"
   ]
  },
  {
   "attachments": {},
   "cell_type": "markdown",
   "metadata": {},
   "source": [
    "## GRU\n"
   ]
  },
  {
   "cell_type": "code",
   "execution_count": 5,
   "metadata": {},
   "outputs": [
    {
     "name": "stderr",
     "output_type": "stream",
     "text": [
      "2023-03-13 13:59:55.668942: W tensorflow/compiler/xla/stream_executor/platform/default/dso_loader.cc:64] Could not load dynamic library 'libcuda.so.1'; dlerror: libcuda.so.1: cannot open shared object file: No such file or directory\n",
      "2023-03-13 13:59:55.669745: W tensorflow/compiler/xla/stream_executor/cuda/cuda_driver.cc:265] failed call to cuInit: UNKNOWN ERROR (303)\n",
      "2023-03-13 13:59:55.669843: I tensorflow/compiler/xla/stream_executor/cuda/cuda_diagnostics.cc:156] kernel driver does not appear to be running on this host (DESKTOP-154PLAM): /proc/driver/nvidia/version does not exist\n",
      "2023-03-13 13:59:55.673267: I tensorflow/core/platform/cpu_feature_guard.cc:193] This TensorFlow binary is optimized with oneAPI Deep Neural Network Library (oneDNN) to use the following CPU instructions in performance-critical operations:  AVX2 FMA\n",
      "To enable them in other operations, rebuild TensorFlow with the appropriate compiler flags.\n"
     ]
    },
    {
     "name": "stdout",
     "output_type": "stream",
     "text": [
      "Epoch 1/10\n",
      "254/254 [==============================] - 27s 69ms/step - loss: 0.0146 - mean_absolute_error: 0.0752 - val_loss: 0.0034 - val_mean_absolute_error: 0.0403\n",
      "Epoch 2/10\n",
      "254/254 [==============================] - 17s 67ms/step - loss: 0.0032 - mean_absolute_error: 0.0397 - val_loss: 0.0032 - val_mean_absolute_error: 0.0399\n",
      "Epoch 3/10\n",
      "254/254 [==============================] - 14s 55ms/step - loss: 0.0031 - mean_absolute_error: 0.0389 - val_loss: 0.0030 - val_mean_absolute_error: 0.0382\n",
      "Epoch 4/10\n",
      "254/254 [==============================] - 16s 63ms/step - loss: 0.0030 - mean_absolute_error: 0.0385 - val_loss: 0.0029 - val_mean_absolute_error: 0.0376\n",
      "Epoch 5/10\n",
      "254/254 [==============================] - 15s 59ms/step - loss: 0.0029 - mean_absolute_error: 0.0378 - val_loss: 0.0029 - val_mean_absolute_error: 0.0369\n",
      "Epoch 6/10\n",
      "254/254 [==============================] - 15s 57ms/step - loss: 0.0028 - mean_absolute_error: 0.0372 - val_loss: 0.0028 - val_mean_absolute_error: 0.0362\n",
      "Epoch 7/10\n",
      "254/254 [==============================] - 15s 61ms/step - loss: 0.0028 - mean_absolute_error: 0.0367 - val_loss: 0.0027 - val_mean_absolute_error: 0.0360\n",
      "Epoch 8/10\n",
      "254/254 [==============================] - 16s 64ms/step - loss: 0.0027 - mean_absolute_error: 0.0363 - val_loss: 0.0029 - val_mean_absolute_error: 0.0365\n",
      "Epoch 9/10\n",
      "254/254 [==============================] - 15s 60ms/step - loss: 0.0027 - mean_absolute_error: 0.0361 - val_loss: 0.0030 - val_mean_absolute_error: 0.0375\n",
      "Epoch 10/10\n",
      "254/254 [==============================] - 15s 60ms/step - loss: 0.0027 - mean_absolute_error: 0.0359 - val_loss: 0.0027 - val_mean_absolute_error: 0.0370\n"
     ]
    }
   ],
   "source": [
    "gru_model = tf.keras.Sequential(\n",
    "    [\n",
    "        tf.keras.layers.GRU(\n",
    "            32,\n",
    "            return_sequences=False,\n",
    "        ),\n",
    "        tf.keras.layers.Dense(\n",
    "            OUTPUT_SIZE * 1, kernel_initializer=tf.initializers.zeros()\n",
    "        ),\n",
    "        tf.keras.layers.Reshape([OUTPUT_SIZE, 1]),\n",
    "    ]\n",
    ")\n",
    "\n",
    "gru_model.compile(\n",
    "    loss=tf.keras.losses.MeanSquaredError(),\n",
    "    optimizer=tf.keras.optimizers.Adam(),\n",
    "    metrics=[tf.keras.metrics.MeanAbsoluteError()],\n",
    ")\n",
    "\n",
    "history = gru_model.fit(\n",
    "    X_train,\n",
    "    y_train,\n",
    "    epochs=10,\n",
    "    validation_split=0.2,\n",
    "    batch_size=BATCH_SIZE,\n",
    "    shuffle=True,\n",
    "    callbacks=[\n",
    "        tf.keras.callbacks.EarlyStopping(\n",
    "            monitor=\"val_loss\",\n",
    "            verbose=1,\n",
    "            patience=4,\n",
    "            mode=\"min\",\n",
    "            restore_best_weights=True,\n",
    "        )\n",
    "    ],\n",
    "    use_multiprocessing=True,\n",
    ")"
   ]
  },
  {
   "cell_type": "code",
   "execution_count": 6,
   "metadata": {},
   "outputs": [],
   "source": [
    "pred_gru = gru_model(X_test)"
   ]
  },
  {
   "attachments": {},
   "cell_type": "markdown",
   "metadata": {},
   "source": [
    "## LSTM\n"
   ]
  },
  {
   "cell_type": "code",
   "execution_count": null,
   "metadata": {},
   "outputs": [],
   "source": [
    "lstm_model = tf.keras.Sequential(\n",
    "    [\n",
    "        tf.keras.layers.LSTM(\n",
    "            32,\n",
    "            return_sequences=False,\n",
    "        ),\n",
    "        tf.keras.layers.Dense(\n",
    "            OUTPUT_SIZE * 1, kernel_initializer=tf.initializers.zeros()\n",
    "        ),\n",
    "        tf.keras.layers.Reshape([OUTPUT_SIZE, 1]),\n",
    "    ]\n",
    ")\n",
    "\n",
    "lstm_model.compile(\n",
    "    loss=tf.keras.losses.MeanSquaredError(),\n",
    "    optimizer=tf.keras.optimizers.Adam(),\n",
    "    metrics=[tf.keras.metrics.MeanAbsoluteError()],\n",
    ")\n",
    "\n",
    "history = lstm_model.fit(\n",
    "    X_train,\n",
    "    y_train,\n",
    "    epochs=10,\n",
    "    validation_split=0.2,\n",
    "    batch_size=BATCH_SIZE,\n",
    "    shuffle=True,\n",
    "    callbacks=[\n",
    "        tf.keras.callbacks.EarlyStopping(\n",
    "            monitor=\"val_loss\",\n",
    "            verbose=1,\n",
    "            patience=4,\n",
    "            mode=\"min\",\n",
    "            restore_best_weights=True,\n",
    "        )\n",
    "    ],\n",
    "    use_multiprocessing=True,\n",
    ")"
   ]
  },
  {
   "cell_type": "code",
   "execution_count": null,
   "metadata": {},
   "outputs": [],
   "source": [
    "pred_lstm = gru_model(X_test)"
   ]
  },
  {
   "cell_type": "code",
   "execution_count": 22,
   "metadata": {},
   "outputs": [
    {
     "name": "stdout",
     "output_type": "stream",
     "text": [
      "4254\n"
     ]
    },
    {
     "data": {
      "application/vnd.plotly.v1+json": {
       "config": {
        "plotlyServerURL": "https://plot.ly"
       },
       "data": [
        {
         "name": "GRU Prediction",
         "type": "scatter",
         "x": [
          0,
          1,
          2,
          3,
          4,
          5,
          6,
          7,
          8,
          9,
          10,
          11,
          12,
          13,
          14,
          15,
          16,
          17,
          18,
          19,
          20
         ],
         "xaxis": "x",
         "y": [
          0.08678403496742249,
          0.08714383840560913,
          0.0875098928809166,
          0.08780616521835327,
          0.08801701664924622,
          0.08815593272447586,
          0.08816085010766983,
          0.08804159611463547,
          0.08780907839536667,
          0.08750149607658386,
          0.08701880276203156,
          0.08647622168064117,
          0.08587083220481873,
          0.08530154824256897,
          0.08484192937612534,
          0.08447323739528656,
          0.08422550559043884,
          0.08407395333051682,
          0.08396333456039429,
          0.0838407501578331,
          0.0837937444448471
         ],
         "yaxis": "y"
        },
        {
         "name": "Close_denoised",
         "type": "scatter",
         "x": [
          0,
          1,
          2,
          3,
          4,
          5,
          6,
          7,
          8,
          9,
          10,
          11,
          12,
          13,
          14,
          15,
          16,
          17,
          18,
          19,
          20
         ],
         "xaxis": "x",
         "y": [
          0.05542030389387745,
          0.055840134060972574,
          0.05647922569849917,
          0.056501413438466985,
          0.05642173350450619,
          0.05635305212326924,
          0.05610260072720294,
          0.056049509013380155,
          0.05593620326825094,
          0.05575305115315138,
          0.05570360267682217,
          0.05560639495782707,
          0.0556955695499651,
          0.05588972021778854,
          0.05606666612018105,
          0.056093693858795785,
          0.05646438797835843,
          0.05701839307512055,
          0.05760155995804092,
          0.058052950729004404,
          0.05869983190483474
         ],
         "yaxis": "y"
        }
       ],
       "layout": {
        "annotations": [
         {
          "font": {
           "size": 16
          },
          "showarrow": false,
          "text": "C",
          "x": 0.5,
          "xanchor": "center",
          "xref": "paper",
          "y": 1,
          "yanchor": "bottom",
          "yref": "paper"
         }
        ],
        "shapes": [
         {
          "line": {
           "color": "Black"
          },
          "type": "line",
          "x0": 7,
          "x1": 7,
          "xref": "x",
          "y0": 0.05542030389387745,
          "y1": 0.08816085010766983,
          "yref": "y"
         }
        ],
        "showlegend": true,
        "template": {
         "data": {
          "bar": [
           {
            "error_x": {
             "color": "#2a3f5f"
            },
            "error_y": {
             "color": "#2a3f5f"
            },
            "marker": {
             "line": {
              "color": "#E5ECF6",
              "width": 0.5
             },
             "pattern": {
              "fillmode": "overlay",
              "size": 10,
              "solidity": 0.2
             }
            },
            "type": "bar"
           }
          ],
          "barpolar": [
           {
            "marker": {
             "line": {
              "color": "#E5ECF6",
              "width": 0.5
             },
             "pattern": {
              "fillmode": "overlay",
              "size": 10,
              "solidity": 0.2
             }
            },
            "type": "barpolar"
           }
          ],
          "carpet": [
           {
            "aaxis": {
             "endlinecolor": "#2a3f5f",
             "gridcolor": "white",
             "linecolor": "white",
             "minorgridcolor": "white",
             "startlinecolor": "#2a3f5f"
            },
            "baxis": {
             "endlinecolor": "#2a3f5f",
             "gridcolor": "white",
             "linecolor": "white",
             "minorgridcolor": "white",
             "startlinecolor": "#2a3f5f"
            },
            "type": "carpet"
           }
          ],
          "choropleth": [
           {
            "colorbar": {
             "outlinewidth": 0,
             "ticks": ""
            },
            "type": "choropleth"
           }
          ],
          "contour": [
           {
            "colorbar": {
             "outlinewidth": 0,
             "ticks": ""
            },
            "colorscale": [
             [
              0,
              "#0d0887"
             ],
             [
              0.1111111111111111,
              "#46039f"
             ],
             [
              0.2222222222222222,
              "#7201a8"
             ],
             [
              0.3333333333333333,
              "#9c179e"
             ],
             [
              0.4444444444444444,
              "#bd3786"
             ],
             [
              0.5555555555555556,
              "#d8576b"
             ],
             [
              0.6666666666666666,
              "#ed7953"
             ],
             [
              0.7777777777777778,
              "#fb9f3a"
             ],
             [
              0.8888888888888888,
              "#fdca26"
             ],
             [
              1,
              "#f0f921"
             ]
            ],
            "type": "contour"
           }
          ],
          "contourcarpet": [
           {
            "colorbar": {
             "outlinewidth": 0,
             "ticks": ""
            },
            "type": "contourcarpet"
           }
          ],
          "heatmap": [
           {
            "colorbar": {
             "outlinewidth": 0,
             "ticks": ""
            },
            "colorscale": [
             [
              0,
              "#0d0887"
             ],
             [
              0.1111111111111111,
              "#46039f"
             ],
             [
              0.2222222222222222,
              "#7201a8"
             ],
             [
              0.3333333333333333,
              "#9c179e"
             ],
             [
              0.4444444444444444,
              "#bd3786"
             ],
             [
              0.5555555555555556,
              "#d8576b"
             ],
             [
              0.6666666666666666,
              "#ed7953"
             ],
             [
              0.7777777777777778,
              "#fb9f3a"
             ],
             [
              0.8888888888888888,
              "#fdca26"
             ],
             [
              1,
              "#f0f921"
             ]
            ],
            "type": "heatmap"
           }
          ],
          "heatmapgl": [
           {
            "colorbar": {
             "outlinewidth": 0,
             "ticks": ""
            },
            "colorscale": [
             [
              0,
              "#0d0887"
             ],
             [
              0.1111111111111111,
              "#46039f"
             ],
             [
              0.2222222222222222,
              "#7201a8"
             ],
             [
              0.3333333333333333,
              "#9c179e"
             ],
             [
              0.4444444444444444,
              "#bd3786"
             ],
             [
              0.5555555555555556,
              "#d8576b"
             ],
             [
              0.6666666666666666,
              "#ed7953"
             ],
             [
              0.7777777777777778,
              "#fb9f3a"
             ],
             [
              0.8888888888888888,
              "#fdca26"
             ],
             [
              1,
              "#f0f921"
             ]
            ],
            "type": "heatmapgl"
           }
          ],
          "histogram": [
           {
            "marker": {
             "pattern": {
              "fillmode": "overlay",
              "size": 10,
              "solidity": 0.2
             }
            },
            "type": "histogram"
           }
          ],
          "histogram2d": [
           {
            "colorbar": {
             "outlinewidth": 0,
             "ticks": ""
            },
            "colorscale": [
             [
              0,
              "#0d0887"
             ],
             [
              0.1111111111111111,
              "#46039f"
             ],
             [
              0.2222222222222222,
              "#7201a8"
             ],
             [
              0.3333333333333333,
              "#9c179e"
             ],
             [
              0.4444444444444444,
              "#bd3786"
             ],
             [
              0.5555555555555556,
              "#d8576b"
             ],
             [
              0.6666666666666666,
              "#ed7953"
             ],
             [
              0.7777777777777778,
              "#fb9f3a"
             ],
             [
              0.8888888888888888,
              "#fdca26"
             ],
             [
              1,
              "#f0f921"
             ]
            ],
            "type": "histogram2d"
           }
          ],
          "histogram2dcontour": [
           {
            "colorbar": {
             "outlinewidth": 0,
             "ticks": ""
            },
            "colorscale": [
             [
              0,
              "#0d0887"
             ],
             [
              0.1111111111111111,
              "#46039f"
             ],
             [
              0.2222222222222222,
              "#7201a8"
             ],
             [
              0.3333333333333333,
              "#9c179e"
             ],
             [
              0.4444444444444444,
              "#bd3786"
             ],
             [
              0.5555555555555556,
              "#d8576b"
             ],
             [
              0.6666666666666666,
              "#ed7953"
             ],
             [
              0.7777777777777778,
              "#fb9f3a"
             ],
             [
              0.8888888888888888,
              "#fdca26"
             ],
             [
              1,
              "#f0f921"
             ]
            ],
            "type": "histogram2dcontour"
           }
          ],
          "mesh3d": [
           {
            "colorbar": {
             "outlinewidth": 0,
             "ticks": ""
            },
            "type": "mesh3d"
           }
          ],
          "parcoords": [
           {
            "line": {
             "colorbar": {
              "outlinewidth": 0,
              "ticks": ""
             }
            },
            "type": "parcoords"
           }
          ],
          "pie": [
           {
            "automargin": true,
            "type": "pie"
           }
          ],
          "scatter": [
           {
            "fillpattern": {
             "fillmode": "overlay",
             "size": 10,
             "solidity": 0.2
            },
            "type": "scatter"
           }
          ],
          "scatter3d": [
           {
            "line": {
             "colorbar": {
              "outlinewidth": 0,
              "ticks": ""
             }
            },
            "marker": {
             "colorbar": {
              "outlinewidth": 0,
              "ticks": ""
             }
            },
            "type": "scatter3d"
           }
          ],
          "scattercarpet": [
           {
            "marker": {
             "colorbar": {
              "outlinewidth": 0,
              "ticks": ""
             }
            },
            "type": "scattercarpet"
           }
          ],
          "scattergeo": [
           {
            "marker": {
             "colorbar": {
              "outlinewidth": 0,
              "ticks": ""
             }
            },
            "type": "scattergeo"
           }
          ],
          "scattergl": [
           {
            "marker": {
             "colorbar": {
              "outlinewidth": 0,
              "ticks": ""
             }
            },
            "type": "scattergl"
           }
          ],
          "scattermapbox": [
           {
            "marker": {
             "colorbar": {
              "outlinewidth": 0,
              "ticks": ""
             }
            },
            "type": "scattermapbox"
           }
          ],
          "scatterpolar": [
           {
            "marker": {
             "colorbar": {
              "outlinewidth": 0,
              "ticks": ""
             }
            },
            "type": "scatterpolar"
           }
          ],
          "scatterpolargl": [
           {
            "marker": {
             "colorbar": {
              "outlinewidth": 0,
              "ticks": ""
             }
            },
            "type": "scatterpolargl"
           }
          ],
          "scatterternary": [
           {
            "marker": {
             "colorbar": {
              "outlinewidth": 0,
              "ticks": ""
             }
            },
            "type": "scatterternary"
           }
          ],
          "surface": [
           {
            "colorbar": {
             "outlinewidth": 0,
             "ticks": ""
            },
            "colorscale": [
             [
              0,
              "#0d0887"
             ],
             [
              0.1111111111111111,
              "#46039f"
             ],
             [
              0.2222222222222222,
              "#7201a8"
             ],
             [
              0.3333333333333333,
              "#9c179e"
             ],
             [
              0.4444444444444444,
              "#bd3786"
             ],
             [
              0.5555555555555556,
              "#d8576b"
             ],
             [
              0.6666666666666666,
              "#ed7953"
             ],
             [
              0.7777777777777778,
              "#fb9f3a"
             ],
             [
              0.8888888888888888,
              "#fdca26"
             ],
             [
              1,
              "#f0f921"
             ]
            ],
            "type": "surface"
           }
          ],
          "table": [
           {
            "cells": {
             "fill": {
              "color": "#EBF0F8"
             },
             "line": {
              "color": "white"
             }
            },
            "header": {
             "fill": {
              "color": "#C8D4E3"
             },
             "line": {
              "color": "white"
             }
            },
            "type": "table"
           }
          ]
         },
         "layout": {
          "annotationdefaults": {
           "arrowcolor": "#2a3f5f",
           "arrowhead": 0,
           "arrowwidth": 1
          },
          "autotypenumbers": "strict",
          "coloraxis": {
           "colorbar": {
            "outlinewidth": 0,
            "ticks": ""
           }
          },
          "colorscale": {
           "diverging": [
            [
             0,
             "#8e0152"
            ],
            [
             0.1,
             "#c51b7d"
            ],
            [
             0.2,
             "#de77ae"
            ],
            [
             0.3,
             "#f1b6da"
            ],
            [
             0.4,
             "#fde0ef"
            ],
            [
             0.5,
             "#f7f7f7"
            ],
            [
             0.6,
             "#e6f5d0"
            ],
            [
             0.7,
             "#b8e186"
            ],
            [
             0.8,
             "#7fbc41"
            ],
            [
             0.9,
             "#4d9221"
            ],
            [
             1,
             "#276419"
            ]
           ],
           "sequential": [
            [
             0,
             "#0d0887"
            ],
            [
             0.1111111111111111,
             "#46039f"
            ],
            [
             0.2222222222222222,
             "#7201a8"
            ],
            [
             0.3333333333333333,
             "#9c179e"
            ],
            [
             0.4444444444444444,
             "#bd3786"
            ],
            [
             0.5555555555555556,
             "#d8576b"
            ],
            [
             0.6666666666666666,
             "#ed7953"
            ],
            [
             0.7777777777777778,
             "#fb9f3a"
            ],
            [
             0.8888888888888888,
             "#fdca26"
            ],
            [
             1,
             "#f0f921"
            ]
           ],
           "sequentialminus": [
            [
             0,
             "#0d0887"
            ],
            [
             0.1111111111111111,
             "#46039f"
            ],
            [
             0.2222222222222222,
             "#7201a8"
            ],
            [
             0.3333333333333333,
             "#9c179e"
            ],
            [
             0.4444444444444444,
             "#bd3786"
            ],
            [
             0.5555555555555556,
             "#d8576b"
            ],
            [
             0.6666666666666666,
             "#ed7953"
            ],
            [
             0.7777777777777778,
             "#fb9f3a"
            ],
            [
             0.8888888888888888,
             "#fdca26"
            ],
            [
             1,
             "#f0f921"
            ]
           ]
          },
          "colorway": [
           "#636efa",
           "#EF553B",
           "#00cc96",
           "#ab63fa",
           "#FFA15A",
           "#19d3f3",
           "#FF6692",
           "#B6E880",
           "#FF97FF",
           "#FECB52"
          ],
          "font": {
           "color": "#2a3f5f"
          },
          "geo": {
           "bgcolor": "white",
           "lakecolor": "white",
           "landcolor": "#E5ECF6",
           "showlakes": true,
           "showland": true,
           "subunitcolor": "white"
          },
          "hoverlabel": {
           "align": "left"
          },
          "hovermode": "closest",
          "mapbox": {
           "style": "light"
          },
          "paper_bgcolor": "white",
          "plot_bgcolor": "#E5ECF6",
          "polar": {
           "angularaxis": {
            "gridcolor": "white",
            "linecolor": "white",
            "ticks": ""
           },
           "bgcolor": "#E5ECF6",
           "radialaxis": {
            "gridcolor": "white",
            "linecolor": "white",
            "ticks": ""
           }
          },
          "scene": {
           "xaxis": {
            "backgroundcolor": "#E5ECF6",
            "gridcolor": "white",
            "gridwidth": 2,
            "linecolor": "white",
            "showbackground": true,
            "ticks": "",
            "zerolinecolor": "white"
           },
           "yaxis": {
            "backgroundcolor": "#E5ECF6",
            "gridcolor": "white",
            "gridwidth": 2,
            "linecolor": "white",
            "showbackground": true,
            "ticks": "",
            "zerolinecolor": "white"
           },
           "zaxis": {
            "backgroundcolor": "#E5ECF6",
            "gridcolor": "white",
            "gridwidth": 2,
            "linecolor": "white",
            "showbackground": true,
            "ticks": "",
            "zerolinecolor": "white"
           }
          },
          "shapedefaults": {
           "line": {
            "color": "#2a3f5f"
           }
          },
          "ternary": {
           "aaxis": {
            "gridcolor": "white",
            "linecolor": "white",
            "ticks": ""
           },
           "baxis": {
            "gridcolor": "white",
            "linecolor": "white",
            "ticks": ""
           },
           "bgcolor": "#E5ECF6",
           "caxis": {
            "gridcolor": "white",
            "linecolor": "white",
            "ticks": ""
           }
          },
          "title": {
           "x": 0.05
          },
          "xaxis": {
           "automargin": true,
           "gridcolor": "white",
           "linecolor": "white",
           "ticks": "",
           "title": {
            "standoff": 15
           },
           "zerolinecolor": "white",
           "zerolinewidth": 2
          },
          "yaxis": {
           "automargin": true,
           "gridcolor": "white",
           "linecolor": "white",
           "ticks": "",
           "title": {
            "standoff": 15
           },
           "zerolinecolor": "white",
           "zerolinewidth": 2
          }
         }
        },
        "title": {
         "text": "Comparing Prediction and real data"
        },
        "xaxis": {
         "anchor": "y",
         "domain": [
          0,
          1
         ],
         "rangeslider": {
          "visible": false
         }
        },
        "yaxis": {
         "anchor": "x",
         "domain": [
          0,
          1
         ]
        }
       }
      },
      "text/html": [
       "<div>                            <div id=\"f6aee8fe-fcc5-41c5-8e91-25ae3c7e1006\" class=\"plotly-graph-div\" style=\"height:525px; width:100%;\"></div>            <script type=\"text/javascript\">                require([\"plotly\"], function(Plotly) {                    window.PLOTLYENV=window.PLOTLYENV || {};                                    if (document.getElementById(\"f6aee8fe-fcc5-41c5-8e91-25ae3c7e1006\")) {                    Plotly.newPlot(                        \"f6aee8fe-fcc5-41c5-8e91-25ae3c7e1006\",                        [{\"name\":\"GRU Prediction\",\"x\":[0,1,2,3,4,5,6,7,8,9,10,11,12,13,14,15,16,17,18,19,20],\"y\":[0.08678403496742249,0.08714383840560913,0.0875098928809166,0.08780616521835327,0.08801701664924622,0.08815593272447586,0.08816085010766983,0.08804159611463547,0.08780907839536667,0.08750149607658386,0.08701880276203156,0.08647622168064117,0.08587083220481873,0.08530154824256897,0.08484192937612534,0.08447323739528656,0.08422550559043884,0.08407395333051682,0.08396333456039429,0.0838407501578331,0.0837937444448471],\"type\":\"scatter\",\"xaxis\":\"x\",\"yaxis\":\"y\"},{\"name\":\"Close_denoised\",\"x\":[0,1,2,3,4,5,6,7,8,9,10,11,12,13,14,15,16,17,18,19,20],\"y\":[0.05542030389387745,0.055840134060972574,0.05647922569849917,0.056501413438466985,0.05642173350450619,0.05635305212326924,0.05610260072720294,0.056049509013380155,0.05593620326825094,0.05575305115315138,0.05570360267682217,0.05560639495782707,0.0556955695499651,0.05588972021778854,0.05606666612018105,0.056093693858795785,0.05646438797835843,0.05701839307512055,0.05760155995804092,0.058052950729004404,0.05869983190483474],\"type\":\"scatter\",\"xaxis\":\"x\",\"yaxis\":\"y\"}],                        {\"template\":{\"data\":{\"histogram2dcontour\":[{\"type\":\"histogram2dcontour\",\"colorbar\":{\"outlinewidth\":0,\"ticks\":\"\"},\"colorscale\":[[0.0,\"#0d0887\"],[0.1111111111111111,\"#46039f\"],[0.2222222222222222,\"#7201a8\"],[0.3333333333333333,\"#9c179e\"],[0.4444444444444444,\"#bd3786\"],[0.5555555555555556,\"#d8576b\"],[0.6666666666666666,\"#ed7953\"],[0.7777777777777778,\"#fb9f3a\"],[0.8888888888888888,\"#fdca26\"],[1.0,\"#f0f921\"]]}],\"choropleth\":[{\"type\":\"choropleth\",\"colorbar\":{\"outlinewidth\":0,\"ticks\":\"\"}}],\"histogram2d\":[{\"type\":\"histogram2d\",\"colorbar\":{\"outlinewidth\":0,\"ticks\":\"\"},\"colorscale\":[[0.0,\"#0d0887\"],[0.1111111111111111,\"#46039f\"],[0.2222222222222222,\"#7201a8\"],[0.3333333333333333,\"#9c179e\"],[0.4444444444444444,\"#bd3786\"],[0.5555555555555556,\"#d8576b\"],[0.6666666666666666,\"#ed7953\"],[0.7777777777777778,\"#fb9f3a\"],[0.8888888888888888,\"#fdca26\"],[1.0,\"#f0f921\"]]}],\"heatmap\":[{\"type\":\"heatmap\",\"colorbar\":{\"outlinewidth\":0,\"ticks\":\"\"},\"colorscale\":[[0.0,\"#0d0887\"],[0.1111111111111111,\"#46039f\"],[0.2222222222222222,\"#7201a8\"],[0.3333333333333333,\"#9c179e\"],[0.4444444444444444,\"#bd3786\"],[0.5555555555555556,\"#d8576b\"],[0.6666666666666666,\"#ed7953\"],[0.7777777777777778,\"#fb9f3a\"],[0.8888888888888888,\"#fdca26\"],[1.0,\"#f0f921\"]]}],\"heatmapgl\":[{\"type\":\"heatmapgl\",\"colorbar\":{\"outlinewidth\":0,\"ticks\":\"\"},\"colorscale\":[[0.0,\"#0d0887\"],[0.1111111111111111,\"#46039f\"],[0.2222222222222222,\"#7201a8\"],[0.3333333333333333,\"#9c179e\"],[0.4444444444444444,\"#bd3786\"],[0.5555555555555556,\"#d8576b\"],[0.6666666666666666,\"#ed7953\"],[0.7777777777777778,\"#fb9f3a\"],[0.8888888888888888,\"#fdca26\"],[1.0,\"#f0f921\"]]}],\"contourcarpet\":[{\"type\":\"contourcarpet\",\"colorbar\":{\"outlinewidth\":0,\"ticks\":\"\"}}],\"contour\":[{\"type\":\"contour\",\"colorbar\":{\"outlinewidth\":0,\"ticks\":\"\"},\"colorscale\":[[0.0,\"#0d0887\"],[0.1111111111111111,\"#46039f\"],[0.2222222222222222,\"#7201a8\"],[0.3333333333333333,\"#9c179e\"],[0.4444444444444444,\"#bd3786\"],[0.5555555555555556,\"#d8576b\"],[0.6666666666666666,\"#ed7953\"],[0.7777777777777778,\"#fb9f3a\"],[0.8888888888888888,\"#fdca26\"],[1.0,\"#f0f921\"]]}],\"surface\":[{\"type\":\"surface\",\"colorbar\":{\"outlinewidth\":0,\"ticks\":\"\"},\"colorscale\":[[0.0,\"#0d0887\"],[0.1111111111111111,\"#46039f\"],[0.2222222222222222,\"#7201a8\"],[0.3333333333333333,\"#9c179e\"],[0.4444444444444444,\"#bd3786\"],[0.5555555555555556,\"#d8576b\"],[0.6666666666666666,\"#ed7953\"],[0.7777777777777778,\"#fb9f3a\"],[0.8888888888888888,\"#fdca26\"],[1.0,\"#f0f921\"]]}],\"mesh3d\":[{\"type\":\"mesh3d\",\"colorbar\":{\"outlinewidth\":0,\"ticks\":\"\"}}],\"scatter\":[{\"fillpattern\":{\"fillmode\":\"overlay\",\"size\":10,\"solidity\":0.2},\"type\":\"scatter\"}],\"parcoords\":[{\"type\":\"parcoords\",\"line\":{\"colorbar\":{\"outlinewidth\":0,\"ticks\":\"\"}}}],\"scatterpolargl\":[{\"type\":\"scatterpolargl\",\"marker\":{\"colorbar\":{\"outlinewidth\":0,\"ticks\":\"\"}}}],\"bar\":[{\"error_x\":{\"color\":\"#2a3f5f\"},\"error_y\":{\"color\":\"#2a3f5f\"},\"marker\":{\"line\":{\"color\":\"#E5ECF6\",\"width\":0.5},\"pattern\":{\"fillmode\":\"overlay\",\"size\":10,\"solidity\":0.2}},\"type\":\"bar\"}],\"scattergeo\":[{\"type\":\"scattergeo\",\"marker\":{\"colorbar\":{\"outlinewidth\":0,\"ticks\":\"\"}}}],\"scatterpolar\":[{\"type\":\"scatterpolar\",\"marker\":{\"colorbar\":{\"outlinewidth\":0,\"ticks\":\"\"}}}],\"histogram\":[{\"marker\":{\"pattern\":{\"fillmode\":\"overlay\",\"size\":10,\"solidity\":0.2}},\"type\":\"histogram\"}],\"scattergl\":[{\"type\":\"scattergl\",\"marker\":{\"colorbar\":{\"outlinewidth\":0,\"ticks\":\"\"}}}],\"scatter3d\":[{\"type\":\"scatter3d\",\"line\":{\"colorbar\":{\"outlinewidth\":0,\"ticks\":\"\"}},\"marker\":{\"colorbar\":{\"outlinewidth\":0,\"ticks\":\"\"}}}],\"scattermapbox\":[{\"type\":\"scattermapbox\",\"marker\":{\"colorbar\":{\"outlinewidth\":0,\"ticks\":\"\"}}}],\"scatterternary\":[{\"type\":\"scatterternary\",\"marker\":{\"colorbar\":{\"outlinewidth\":0,\"ticks\":\"\"}}}],\"scattercarpet\":[{\"type\":\"scattercarpet\",\"marker\":{\"colorbar\":{\"outlinewidth\":0,\"ticks\":\"\"}}}],\"carpet\":[{\"aaxis\":{\"endlinecolor\":\"#2a3f5f\",\"gridcolor\":\"white\",\"linecolor\":\"white\",\"minorgridcolor\":\"white\",\"startlinecolor\":\"#2a3f5f\"},\"baxis\":{\"endlinecolor\":\"#2a3f5f\",\"gridcolor\":\"white\",\"linecolor\":\"white\",\"minorgridcolor\":\"white\",\"startlinecolor\":\"#2a3f5f\"},\"type\":\"carpet\"}],\"table\":[{\"cells\":{\"fill\":{\"color\":\"#EBF0F8\"},\"line\":{\"color\":\"white\"}},\"header\":{\"fill\":{\"color\":\"#C8D4E3\"},\"line\":{\"color\":\"white\"}},\"type\":\"table\"}],\"barpolar\":[{\"marker\":{\"line\":{\"color\":\"#E5ECF6\",\"width\":0.5},\"pattern\":{\"fillmode\":\"overlay\",\"size\":10,\"solidity\":0.2}},\"type\":\"barpolar\"}],\"pie\":[{\"automargin\":true,\"type\":\"pie\"}]},\"layout\":{\"autotypenumbers\":\"strict\",\"colorway\":[\"#636efa\",\"#EF553B\",\"#00cc96\",\"#ab63fa\",\"#FFA15A\",\"#19d3f3\",\"#FF6692\",\"#B6E880\",\"#FF97FF\",\"#FECB52\"],\"font\":{\"color\":\"#2a3f5f\"},\"hovermode\":\"closest\",\"hoverlabel\":{\"align\":\"left\"},\"paper_bgcolor\":\"white\",\"plot_bgcolor\":\"#E5ECF6\",\"polar\":{\"bgcolor\":\"#E5ECF6\",\"angularaxis\":{\"gridcolor\":\"white\",\"linecolor\":\"white\",\"ticks\":\"\"},\"radialaxis\":{\"gridcolor\":\"white\",\"linecolor\":\"white\",\"ticks\":\"\"}},\"ternary\":{\"bgcolor\":\"#E5ECF6\",\"aaxis\":{\"gridcolor\":\"white\",\"linecolor\":\"white\",\"ticks\":\"\"},\"baxis\":{\"gridcolor\":\"white\",\"linecolor\":\"white\",\"ticks\":\"\"},\"caxis\":{\"gridcolor\":\"white\",\"linecolor\":\"white\",\"ticks\":\"\"}},\"coloraxis\":{\"colorbar\":{\"outlinewidth\":0,\"ticks\":\"\"}},\"colorscale\":{\"sequential\":[[0.0,\"#0d0887\"],[0.1111111111111111,\"#46039f\"],[0.2222222222222222,\"#7201a8\"],[0.3333333333333333,\"#9c179e\"],[0.4444444444444444,\"#bd3786\"],[0.5555555555555556,\"#d8576b\"],[0.6666666666666666,\"#ed7953\"],[0.7777777777777778,\"#fb9f3a\"],[0.8888888888888888,\"#fdca26\"],[1.0,\"#f0f921\"]],\"sequentialminus\":[[0.0,\"#0d0887\"],[0.1111111111111111,\"#46039f\"],[0.2222222222222222,\"#7201a8\"],[0.3333333333333333,\"#9c179e\"],[0.4444444444444444,\"#bd3786\"],[0.5555555555555556,\"#d8576b\"],[0.6666666666666666,\"#ed7953\"],[0.7777777777777778,\"#fb9f3a\"],[0.8888888888888888,\"#fdca26\"],[1.0,\"#f0f921\"]],\"diverging\":[[0,\"#8e0152\"],[0.1,\"#c51b7d\"],[0.2,\"#de77ae\"],[0.3,\"#f1b6da\"],[0.4,\"#fde0ef\"],[0.5,\"#f7f7f7\"],[0.6,\"#e6f5d0\"],[0.7,\"#b8e186\"],[0.8,\"#7fbc41\"],[0.9,\"#4d9221\"],[1,\"#276419\"]]},\"xaxis\":{\"gridcolor\":\"white\",\"linecolor\":\"white\",\"ticks\":\"\",\"title\":{\"standoff\":15},\"zerolinecolor\":\"white\",\"automargin\":true,\"zerolinewidth\":2},\"yaxis\":{\"gridcolor\":\"white\",\"linecolor\":\"white\",\"ticks\":\"\",\"title\":{\"standoff\":15},\"zerolinecolor\":\"white\",\"automargin\":true,\"zerolinewidth\":2},\"scene\":{\"xaxis\":{\"backgroundcolor\":\"#E5ECF6\",\"gridcolor\":\"white\",\"linecolor\":\"white\",\"showbackground\":true,\"ticks\":\"\",\"zerolinecolor\":\"white\",\"gridwidth\":2},\"yaxis\":{\"backgroundcolor\":\"#E5ECF6\",\"gridcolor\":\"white\",\"linecolor\":\"white\",\"showbackground\":true,\"ticks\":\"\",\"zerolinecolor\":\"white\",\"gridwidth\":2},\"zaxis\":{\"backgroundcolor\":\"#E5ECF6\",\"gridcolor\":\"white\",\"linecolor\":\"white\",\"showbackground\":true,\"ticks\":\"\",\"zerolinecolor\":\"white\",\"gridwidth\":2}},\"shapedefaults\":{\"line\":{\"color\":\"#2a3f5f\"}},\"annotationdefaults\":{\"arrowcolor\":\"#2a3f5f\",\"arrowhead\":0,\"arrowwidth\":1},\"geo\":{\"bgcolor\":\"white\",\"landcolor\":\"#E5ECF6\",\"subunitcolor\":\"white\",\"showland\":true,\"showlakes\":true,\"lakecolor\":\"white\"},\"title\":{\"x\":0.05},\"mapbox\":{\"style\":\"light\"}}},\"xaxis\":{\"anchor\":\"y\",\"domain\":[0.0,1.0],\"rangeslider\":{\"visible\":false}},\"yaxis\":{\"anchor\":\"x\",\"domain\":[0.0,1.0]},\"annotations\":[{\"font\":{\"size\":16},\"showarrow\":false,\"text\":\"C\",\"x\":0.5,\"xanchor\":\"center\",\"xref\":\"paper\",\"y\":1.0,\"yanchor\":\"bottom\",\"yref\":\"paper\"}],\"shapes\":[{\"line\":{\"color\":\"Black\"},\"type\":\"line\",\"x0\":7,\"x1\":7,\"xref\":\"x\",\"y0\":0.05542030389387745,\"y1\":0.08816085010766983,\"yref\":\"y\"}],\"title\":{\"text\":\"Comparing Prediction and real data\"},\"showlegend\":true},                        {\"responsive\": true}                    ).then(function(){\n",
       "                            \n",
       "var gd = document.getElementById('f6aee8fe-fcc5-41c5-8e91-25ae3c7e1006');\n",
       "var x = new MutationObserver(function (mutations, observer) {{\n",
       "        var display = window.getComputedStyle(gd).display;\n",
       "        if (!display || display === 'none') {{\n",
       "            console.log([gd, 'removed!']);\n",
       "            Plotly.purge(gd);\n",
       "            observer.disconnect();\n",
       "        }}\n",
       "}});\n",
       "\n",
       "// Listen for the removal of the full notebook cells\n",
       "var notebookContainer = gd.closest('#notebook-container');\n",
       "if (notebookContainer) {{\n",
       "    x.observe(notebookContainer, {childList: true});\n",
       "}}\n",
       "\n",
       "// Listen for the clearing of the current output cell\n",
       "var outputEl = gd.closest('.output');\n",
       "if (outputEl) {{\n",
       "    x.observe(outputEl, {childList: true});\n",
       "}}\n",
       "\n",
       "                        })                };                });            </script>        </div>"
      ]
     },
     "metadata": {},
     "output_type": "display_data"
    }
   ],
   "source": [
    "ind = randint(0, len(y_test) - 1)\n",
    "print(ind)\n",
    "\n",
    "fig = make_subplots(\n",
    "    rows=1,\n",
    "    cols=1,\n",
    "    subplot_titles=(\"Comparing\"),\n",
    "    shared_xaxes=True,\n",
    ")\n",
    "\n",
    "# fig.add_trace(\n",
    "#     go.Scatter(\n",
    "#         name=\"LSTM x Conv Prediction\",\n",
    "#         x=list(range(len(y_test[ind]))),\n",
    "#         y= (pred_conv[ind].reshape(OUTPUT_SIZE)+ pred_gru[ind].reshape(OUTPUT_SIZE))/2,\n",
    "#     ),\n",
    "#     row=1,\n",
    "#     col=1,\n",
    "# )\n",
    "\n",
    "fig.add_trace(\n",
    "    go.Scatter(\n",
    "        name=\"GRU Prediction\",\n",
    "        x=list(range(len(y_test[ind]))),\n",
    "        y=np.array(pred_gru[ind]).reshape(OUTPUT_SIZE),\n",
    "    ),\n",
    "    row=1,\n",
    "    col=1,\n",
    ")\n",
    "\n",
    "fig.add_trace(\n",
    "    go.Scatter(\n",
    "        name=\"LSTM Prediction\",\n",
    "        x=list(range(len(y_test[ind]))),\n",
    "        y=np.array(pred_lstm[ind]).reshape(OUTPUT_SIZE),\n",
    "    ),\n",
    "    row=1,\n",
    "    col=1,\n",
    ")\n",
    "\n",
    "fig.add_trace(\n",
    "    go.Scatter(\n",
    "        name=LABEL_COL,\n",
    "        x=list(range(len(y_test[ind]))),\n",
    "        y=y_test[ind].reshape(OUTPUT_SIZE),\n",
    "    ),\n",
    "    row=1,\n",
    "    col=1,\n",
    ")\n",
    "\n",
    "fig.add_shape(\n",
    "    type=\"line\",\n",
    "    x0=COVERAGE_STEPS,\n",
    "    y0=np.min(\n",
    "        [y_test[ind].reshape(OUTPUT_SIZE), np.array(pred_gru[ind]).reshape(OUTPUT_SIZE)]\n",
    "    )\n",
    "    - 10,\n",
    "    x1=COVERAGE_STEPS,\n",
    "    y1=np.max(\n",
    "        [y_test[ind].reshape(OUTPUT_SIZE), np.array(pred_gru[ind]).reshape(OUTPUT_SIZE)]\n",
    "    )\n",
    "    + 10,\n",
    "    line={\"color\": \"Black\"},\n",
    "    xref=\"x\",\n",
    "    yref=\"y\",\n",
    "    row=1,\n",
    "    col=1,\n",
    ")\n",
    "\n",
    "fig.update_layout(\n",
    "    xaxis_rangeslider_visible=False,\n",
    "    showlegend=True,\n",
    "    title_text=\"Comparing Prediction and real data\",\n",
    ")\n",
    "fig.show()"
   ]
  },
  {
   "cell_type": "code",
   "execution_count": null,
   "metadata": {},
   "outputs": [],
   "source": []
  }
 ],
 "metadata": {
  "kernelspec": {
   "display_name": ".venv",
   "language": "python",
   "name": "python3"
  },
  "language_info": {
   "codemirror_mode": {
    "name": "ipython",
    "version": 3
   },
   "file_extension": ".py",
   "mimetype": "text/x-python",
   "name": "python",
   "nbconvert_exporter": "python",
   "pygments_lexer": "ipython3",
   "version": "3.10.6"
  },
  "orig_nbformat": 4
 },
 "nbformat": 4,
 "nbformat_minor": 2
}
