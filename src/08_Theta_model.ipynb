{
 "cells": [
  {
   "cell_type": "code",
   "execution_count": null,
   "metadata": {},
   "outputs": [],
   "source": [
    "import pandas as pd\n",
    "import numpy as np\n",
    "import plotly.graph_objects as go\n",
    "from plotly.subplots import make_subplots\n",
    "import matplotlib.pyplot as plt\n",
    "\n",
    "from modules.data_fetcher import download_historical_data\n"
   ]
  },
  {
   "cell_type": "code",
   "execution_count": null,
   "metadata": {},
   "outputs": [],
   "source": [
    "symbol= 'BTC-USDT'\n",
    "\n",
    "df_BTC = download_historical_data(symbol,'1hour').iloc[-3000:]\n",
    "df_BTC[\"Return\"] = df_BTC.Close.pct_change()\n",
    "df_BTC.dropna(inplace=True)\n",
    "print(df_BTC.shape)\n",
    "df_BTC.head()\n",
    "\n",
    "train = df_BTC[:df_BTC.shape[0]//2]\n",
    "test = df_BTC[df_BTC.shape[0]//2:]\n",
    "df_BTC.head()"
   ]
  },
  {
   "cell_type": "code",
   "execution_count": null,
   "metadata": {},
   "outputs": [],
   "source": [
    "from statsmodels.tsa.holtwinters import ExponentialSmoothing\n",
    "from statsmodels.tsa.forecasting.theta import ThetaModel\n",
    "\n",
    "\n",
    "def rolling_forecast(df: pd.DataFrame, train_len: int, horizon: int, window: int, method: str) -> list:\n",
    "    \n",
    "    total_len = train_len + horizon\n",
    "    end_idx = train_len\n",
    "\n",
    "    if method == 'last_season':\n",
    "        pred_last_season = []\n",
    "        \n",
    "        for i in range(train_len, total_len, window):\n",
    "            last_season = df['Close'][:i].iloc[-window:].values\n",
    "            pred_last_season.extend(last_season)\n",
    "            \n",
    "        return pred_last_season\n",
    "    \n",
    "    elif method == 'theta':\n",
    "        pred_theta = []\n",
    "        \n",
    "        for i in range(train_len, total_len, window):\n",
    "            tm = ThetaModel(endog=df['Close'][:i], period=52)\n",
    "            res = tm.fit()\n",
    "            predictions = res.forecast(window)\n",
    "            pred_theta.extend(predictions)\n",
    "            \n",
    "        #print(res.summary())\n",
    "\n",
    "        return pred_theta\n",
    "              \n",
    "    elif method == 'tes':\n",
    "        pred_tes = []\n",
    "        \n",
    "        for i in range(train_len, total_len, window):\n",
    "            tes = ExponentialSmoothing(\n",
    "                df['Close'][:i],\n",
    "                trend='add',\n",
    "                seasonal='add',\n",
    "                seasonal_periods=52,\n",
    "                initialization_method='estimated'\n",
    "            ).fit()\n",
    "            \n",
    "            predictions = tes.forecast(window)\n",
    "            pred_tes.extend(predictions)\n",
    "\n",
    "    return pred_tes"
   ]
  },
  {
   "cell_type": "code",
   "execution_count": null,
   "metadata": {},
   "outputs": [],
   "source": [
    "TRAIN_LEN = len(train)\n",
    "HORIZON = len(test)\n",
    "WINDOW = 50\n",
    "\n",
    "pred_last_season = rolling_forecast(df, TRAIN_LEN, HORIZON, WINDOW, 'last_season')[:len(test)]\n",
    "pred_theta = rolling_forecast(df, TRAIN_LEN, HORIZON, WINDOW, 'theta')[:len(test)]\n",
    "pred_tes = rolling_forecast(df, TRAIN_LEN, HORIZON, WINDOW, 'tes')[:len(test)]\n",
    "\n",
    "test = test.copy()\n",
    "\n",
    "test['pred_last_season'] = pred_last_season# [:-(len(pred_last_season)-len(test))]\n",
    "test['pred_theta'] = pred_theta# [:-(len(pred_theta)-len(test))]\n",
    "test['pred_tes'] = pred_tes# [:-(len(pred_tes)-len(test))]\n",
    "\n",
    "test.head()"
   ]
  },
  {
   "cell_type": "code",
   "execution_count": null,
   "metadata": {},
   "outputs": [],
   "source": [
    "fig, ax = plt.subplots(figsize=(25,8))\n",
    "\n",
    "ax.plot(df_BTC['Close'])\n",
    "ax.plot(test['Close'], 'b-', label='actual')\n",
    "ax.plot(test['pred_last_season'], 'r:', label='baseline')\n",
    "ax.plot(test['pred_theta'], 'g-.', label='Theta')\n",
    "ax.plot(test['pred_tes'], 'k--', label='TES')\n",
    "\n",
    "ax.set_xlabel('Time')\n",
    "ax.set_ylabel('Price')\n",
    "\n",
    "ax.legend(loc='best')"
   ]
  }
 ],
 "metadata": {
  "kernelspec": {
   "display_name": ".venv",
   "language": "python",
   "name": "python3"
  },
  "language_info": {
   "name": "python",
   "version": "3.10.6"
  },
  "orig_nbformat": 4,
  "vscode": {
   "interpreter": {
    "hash": "52a13a540759e6d9afd9bdd2dad817344e46ac066a51db7cb6f6c1cf96042936"
   }
  }
 },
 "nbformat": 4,
 "nbformat_minor": 2
}
