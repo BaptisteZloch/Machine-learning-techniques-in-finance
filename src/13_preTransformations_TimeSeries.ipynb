{
 "cells": [
  {
   "cell_type": "code",
   "execution_count": 1,
   "metadata": {},
   "outputs": [],
   "source": [
    "from warnings import filterwarnings\n",
    "\n",
    "filterwarnings(\"ignore\")\n",
    "\n",
    "import pandas as pd\n",
    "import numpy as np\n",
    "from statsmodels.tsa.stattools import adfuller\n",
    "\n",
    "from quant_invest_lab.data_provider import download_crypto_historical_data"
   ]
  },
  {
   "cell_type": "code",
   "execution_count": 2,
   "metadata": {},
   "outputs": [
    {
     "name": "stdout",
     "output_type": "stream",
     "text": [
      "(890, 13)\n"
     ]
    },
    {
     "data": {
      "text/html": [
       "<div>\n",
       "<style scoped>\n",
       "    .dataframe tbody tr th:only-of-type {\n",
       "        vertical-align: middle;\n",
       "    }\n",
       "\n",
       "    .dataframe tbody tr th {\n",
       "        vertical-align: top;\n",
       "    }\n",
       "\n",
       "    .dataframe thead th {\n",
       "        text-align: right;\n",
       "    }\n",
       "</style>\n",
       "<table border=\"1\" class=\"dataframe\">\n",
       "  <thead>\n",
       "    <tr style=\"text-align: right;\">\n",
       "      <th></th>\n",
       "      <th>Timestamp</th>\n",
       "      <th>Open</th>\n",
       "      <th>Close</th>\n",
       "      <th>High</th>\n",
       "      <th>Low</th>\n",
       "      <th>Amount</th>\n",
       "      <th>Volume</th>\n",
       "      <th>Returns</th>\n",
       "      <th>Log_Close</th>\n",
       "      <th>Log_Returns</th>\n",
       "      <th>Log_Volume</th>\n",
       "      <th>Vol20</th>\n",
       "      <th>EMA20</th>\n",
       "    </tr>\n",
       "    <tr>\n",
       "      <th>Date</th>\n",
       "      <th></th>\n",
       "      <th></th>\n",
       "      <th></th>\n",
       "      <th></th>\n",
       "      <th></th>\n",
       "      <th></th>\n",
       "      <th></th>\n",
       "      <th></th>\n",
       "      <th></th>\n",
       "      <th></th>\n",
       "      <th></th>\n",
       "      <th></th>\n",
       "      <th></th>\n",
       "    </tr>\n",
       "  </thead>\n",
       "  <tbody>\n",
       "    <tr>\n",
       "      <th>2020-12-10 01:00:00</th>\n",
       "      <td>1.607558e+09</td>\n",
       "      <td>18540.0</td>\n",
       "      <td>18251.2</td>\n",
       "      <td>18552.2</td>\n",
       "      <td>17913.4</td>\n",
       "      <td>1255.370680</td>\n",
       "      <td>2.292105e+07</td>\n",
       "      <td>-0.015582</td>\n",
       "      <td>9.811986</td>\n",
       "      <td>-0.001598</td>\n",
       "      <td>16.947566</td>\n",
       "      <td>0.003780</td>\n",
       "      <td>18649.510967</td>\n",
       "    </tr>\n",
       "    <tr>\n",
       "      <th>2020-12-11 01:00:00</th>\n",
       "      <td>1.607645e+09</td>\n",
       "      <td>18251.4</td>\n",
       "      <td>18027.0</td>\n",
       "      <td>18288.9</td>\n",
       "      <td>17584.2</td>\n",
       "      <td>1845.597719</td>\n",
       "      <td>3.304855e+07</td>\n",
       "      <td>-0.012284</td>\n",
       "      <td>9.799626</td>\n",
       "      <td>-0.001260</td>\n",
       "      <td>17.313488</td>\n",
       "      <td>0.003788</td>\n",
       "      <td>18604.470515</td>\n",
       "    </tr>\n",
       "    <tr>\n",
       "      <th>2020-12-12 01:00:00</th>\n",
       "      <td>1.607731e+09</td>\n",
       "      <td>18035.9</td>\n",
       "      <td>18806.8</td>\n",
       "      <td>18942.1</td>\n",
       "      <td>18020.9</td>\n",
       "      <td>968.568285</td>\n",
       "      <td>1.792373e+07</td>\n",
       "      <td>0.043257</td>\n",
       "      <td>9.841974</td>\n",
       "      <td>0.004321</td>\n",
       "      <td>16.701636</td>\n",
       "      <td>0.003902</td>\n",
       "      <td>18618.756291</td>\n",
       "    </tr>\n",
       "    <tr>\n",
       "      <th>2020-12-13 01:00:00</th>\n",
       "      <td>1.607818e+09</td>\n",
       "      <td>18809.8</td>\n",
       "      <td>19176.1</td>\n",
       "      <td>19411.0</td>\n",
       "      <td>18715.0</td>\n",
       "      <td>1285.871491</td>\n",
       "      <td>2.465229e+07</td>\n",
       "      <td>0.019637</td>\n",
       "      <td>9.861420</td>\n",
       "      <td>0.001976</td>\n",
       "      <td>17.020380</td>\n",
       "      <td>0.003923</td>\n",
       "      <td>18657.224101</td>\n",
       "    </tr>\n",
       "    <tr>\n",
       "      <th>2020-12-14 01:00:00</th>\n",
       "      <td>1.607904e+09</td>\n",
       "      <td>19176.1</td>\n",
       "      <td>19271.1</td>\n",
       "      <td>19348.2</td>\n",
       "      <td>19002.2</td>\n",
       "      <td>830.182795</td>\n",
       "      <td>1.591667e+07</td>\n",
       "      <td>0.004954</td>\n",
       "      <td>9.866362</td>\n",
       "      <td>0.000501</td>\n",
       "      <td>16.582877</td>\n",
       "      <td>0.003808</td>\n",
       "      <td>18698.706009</td>\n",
       "    </tr>\n",
       "  </tbody>\n",
       "</table>\n",
       "</div>"
      ],
      "text/plain": [
       "                        Timestamp     Open    Close     High      Low  \\\n",
       "Date                                                                    \n",
       "2020-12-10 01:00:00  1.607558e+09  18540.0  18251.2  18552.2  17913.4   \n",
       "2020-12-11 01:00:00  1.607645e+09  18251.4  18027.0  18288.9  17584.2   \n",
       "2020-12-12 01:00:00  1.607731e+09  18035.9  18806.8  18942.1  18020.9   \n",
       "2020-12-13 01:00:00  1.607818e+09  18809.8  19176.1  19411.0  18715.0   \n",
       "2020-12-14 01:00:00  1.607904e+09  19176.1  19271.1  19348.2  19002.2   \n",
       "\n",
       "                          Amount        Volume   Returns  Log_Close  \\\n",
       "Date                                                                  \n",
       "2020-12-10 01:00:00  1255.370680  2.292105e+07 -0.015582   9.811986   \n",
       "2020-12-11 01:00:00  1845.597719  3.304855e+07 -0.012284   9.799626   \n",
       "2020-12-12 01:00:00   968.568285  1.792373e+07  0.043257   9.841974   \n",
       "2020-12-13 01:00:00  1285.871491  2.465229e+07  0.019637   9.861420   \n",
       "2020-12-14 01:00:00   830.182795  1.591667e+07  0.004954   9.866362   \n",
       "\n",
       "                     Log_Returns  Log_Volume     Vol20         EMA20  \n",
       "Date                                                                  \n",
       "2020-12-10 01:00:00    -0.001598   16.947566  0.003780  18649.510967  \n",
       "2020-12-11 01:00:00    -0.001260   17.313488  0.003788  18604.470515  \n",
       "2020-12-12 01:00:00     0.004321   16.701636  0.003902  18618.756291  \n",
       "2020-12-13 01:00:00     0.001976   17.020380  0.003923  18657.224101  \n",
       "2020-12-14 01:00:00     0.000501   16.582877  0.003808  18698.706009  "
      ]
     },
     "execution_count": 2,
     "metadata": {},
     "output_type": "execute_result"
    }
   ],
   "source": [
    "symbol = \"BTC-USDT\"\n",
    "timeframe = \"1day\"\n",
    "df_BTC = download_crypto_historical_data(symbol, timeframe, True, False).loc[\n",
    "    \"2020-11-20\":\n",
    "]\n",
    "\n",
    "df_BTC[\"Log_Close\"] = np.log(df_BTC.Close.apply(lambda x: 1.0 if x == 0.0 else x))\n",
    "df_BTC[\"Log_Returns\"] = df_BTC.Log_Close.pct_change()\n",
    "df_BTC[\"Log_Volume\"] = np.log(\n",
    "    np.abs(df_BTC.Volume.apply(lambda x: 1.0 if x == 0.0 else x))\n",
    ")\n",
    "df_BTC[\"Vol20\"] = df_BTC.Log_Returns.rolling(20).std()\n",
    "df_BTC[\"EMA20\"] = df_BTC.Close.ewm(20).mean()\n",
    "\n",
    "\n",
    "df_BTC.dropna(inplace=True)\n",
    "print(df_BTC.shape)\n",
    "df_BTC.head()"
   ]
  },
  {
   "cell_type": "code",
   "execution_count": 3,
   "metadata": {},
   "outputs": [
    {
     "data": {
      "text/plain": [
       "<Axes: xlabel='EMA20', ylabel='Close'>"
      ]
     },
     "execution_count": 3,
     "metadata": {},
     "output_type": "execute_result"
    },
    {
     "data": {
      "image/png": "[encoded data removed]",
      "text/plain": [
       "<Figure size 1500x500 with 1 Axes>"
      ]
     },
     "metadata": {},
     "output_type": "display_data"
    }
   ],
   "source": [
    "df_BTC.plot(x=\"EMA20\", y=\"Close\", figsize=(15, 5), kind=\"scatter\")"
   ]
  },
  {
   "cell_type": "code",
   "execution_count": 4,
   "metadata": {},
   "outputs": [],
   "source": [
    "# split into inputs and outputs\n",
    "X, y = df_BTC.EMA20.values.reshape(-1, 1), df_BTC.Close.values"
   ]
  },
  {
   "cell_type": "code",
   "execution_count": 5,
   "metadata": {},
   "outputs": [
    {
     "data": {
      "text/plain": [
       "array([-3263.62746107, -3276.53980124, -3895.82820007, -3763.86906907,\n",
       "       -3757.6350898 , -3453.70936219, -3924.24496109, -3361.60915219,\n",
       "       -3249.07438697, -3600.19255212])"
      ]
     },
     "execution_count": 5,
     "metadata": {},
     "output_type": "execute_result"
    }
   ],
   "source": [
    "from sklearn.model_selection import cross_val_score\n",
    "from sklearn.model_selection import KFold\n",
    "from sklearn.pipeline import Pipeline\n",
    "from sklearn.linear_model import HuberRegressor\n",
    "from sklearn.preprocessing import PowerTransformer, MinMaxScaler, StandardScaler\n",
    "from sklearn.compose import TransformedTargetRegressor\n",
    "\n",
    "\n",
    "# prepare the model with input scaling\n",
    "pipeline = Pipeline(steps=[(\"power\", MinMaxScaler()), (\"model\", HuberRegressor())])\n",
    "\n",
    "# prepare the model with target scaling\n",
    "model = TransformedTargetRegressor(regressor=pipeline, transformer=MinMaxScaler())\n",
    "# evaluate model\n",
    "cv = KFold(n_splits=10, shuffle=True, random_state=1)\n",
    "scores = cross_val_score(\n",
    "    model, X, y, scoring=\"neg_mean_absolute_error\", cv=cv, n_jobs=4\n",
    ")\n",
    "# convert scores to positive\n",
    "scores"
   ]
  },
  {
   "cell_type": "code",
   "execution_count": 6,
   "metadata": {},
   "outputs": [
    {
     "data": {
      "text/plain": [
       "0.8832861595561445"
      ]
     },
     "execution_count": 6,
     "metadata": {},
     "output_type": "execute_result"
    }
   ],
   "source": [
    "model.fit(X, y)\n",
    "model.score(X, y)"
   ]
  },
  {
   "cell_type": "code",
   "execution_count": 7,
   "metadata": {},
   "outputs": [
    {
     "data": {
      "text/plain": [
       "0.883190708347557"
      ]
     },
     "execution_count": 7,
     "metadata": {},
     "output_type": "execute_result"
    }
   ],
   "source": [
    "# prepare the model with input scaling\n",
    "pipeline = Pipeline(steps=[(\"power\", MinMaxScaler()), (\"model\", HuberRegressor())])\n",
    "\n",
    "# prepare the model with target scaling\n",
    "# model = TransformedTargetRegressor(regressor=pipeline, transformer=MinMaxScaler())\n",
    "pipeline.fit(X, y)\n",
    "pipeline.score(X, y)"
   ]
  },
  {
   "cell_type": "code",
   "execution_count": null,
   "metadata": {},
   "outputs": [],
   "source": []
  }
 ],
 "metadata": {
  "kernelspec": {
   "display_name": ".venv",
   "language": "python",
   "name": "python3"
  },
  "language_info": {
   "codemirror_mode": {
    "name": "ipython",
    "version": 3
   },
   "file_extension": ".py",
   "mimetype": "text/x-python",
   "name": "python",
   "nbconvert_exporter": "python",
   "pygments_lexer": "ipython3",
   "version": "3.10.6"
  },
  "orig_nbformat": 4
 },
 "nbformat": 4,
 "nbformat_minor": 2
}
