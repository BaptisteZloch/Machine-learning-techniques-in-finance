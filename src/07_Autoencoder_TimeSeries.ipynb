{
 "cells": [
  {
   "attachments": {},
   "cell_type": "markdown",
   "metadata": {},
   "source": [
    "# Import\n"
   ]
  },
  {
   "cell_type": "code",
   "execution_count": 2,
   "metadata": {},
   "outputs": [
    {
     "name": "stderr",
     "output_type": "stream",
     "text": [
      "2023-05-18 15:19:00.427286: I tensorflow/core/platform/cpu_feature_guard.cc:193] This TensorFlow binary is optimized with oneAPI Deep Neural Network Library (oneDNN) to use the following CPU instructions in performance-critical operations:  AVX2 FMA\n",
      "To enable them in other operations, rebuild TensorFlow with the appropriate compiler flags.\n",
      "2023-05-18 15:19:01.084302: W tensorflow/compiler/xla/stream_executor/platform/default/dso_loader.cc:64] Could not load dynamic library 'libcudart.so.11.0'; dlerror: libcudart.so.11.0: cannot open shared object file: No such file or directory\n",
      "2023-05-18 15:19:01.084326: I tensorflow/compiler/xla/stream_executor/cuda/cudart_stub.cc:29] Ignore above cudart dlerror if you do not have a GPU set up on your machine.\n",
      "2023-05-18 15:19:05.790530: W tensorflow/compiler/xla/stream_executor/platform/default/dso_loader.cc:64] Could not load dynamic library 'libnvinfer.so.7'; dlerror: libnvinfer.so.7: cannot open shared object file: No such file or directory\n",
      "2023-05-18 15:19:05.790912: W tensorflow/compiler/xla/stream_executor/platform/default/dso_loader.cc:64] Could not load dynamic library 'libnvinfer_plugin.so.7'; dlerror: libnvinfer_plugin.so.7: cannot open shared object file: No such file or directory\n",
      "2023-05-18 15:19:05.790934: W tensorflow/compiler/tf2tensorrt/utils/py_utils.cc:38] TF-TRT Warning: Cannot dlopen some TensorRT libraries. If you would like to use Nvidia GPU with TensorRT, please make sure the missing libraries mentioned above are installed properly.\n"
     ]
    }
   ],
   "source": [
    "import warnings\n",
    "\n",
    "warnings.filterwarnings(\"ignore\")\n",
    "\n",
    "import numpy as np\n",
    "import pandas as pd\n",
    "from datetime import datetime\n",
    "from scipy.signal import savgol_filter\n",
    "\n",
    "import matplotlib.pyplot as plt\n",
    "\n",
    "from sklearn.model_selection import train_test_split\n",
    "from sklearn.preprocessing import MinMaxScaler, StandardScaler\n",
    "from sklearn.ensemble import RandomForestRegressor, RandomForestClassifier\n",
    "\n",
    "from keras.layers import (\n",
    "    Input,\n",
    "    Dense,\n",
    "    Conv1D,\n",
    "    MaxPooling1D,\n",
    "    UpSampling1D,\n",
    "    BatchNormalization,\n",
    "    LSTM,\n",
    "    RepeatVector,\n",
    "    ConvLSTM1D,\n",
    "    Flatten,\n",
    ")\n",
    "from keras.models import Model\n",
    "from keras.models import model_from_json\n",
    "from keras import regularizers\n",
    "import keras\n",
    "import tensorflow as tf\n",
    "\n",
    "early_stop = tf.keras.callbacks.EarlyStopping(\n",
    "    monitor=\"val_loss\",\n",
    "    min_delta=1e-3,\n",
    "    patience=8,\n",
    "    verbose=1,\n",
    "    mode=\"auto\",\n",
    "    baseline=None,\n",
    "    restore_best_weights=True,\n",
    ")\n",
    "\n",
    "from quant_invest_lab.data_provider import download_crypto_historical_data\n",
    "from modules.indicators import compute_lagging_regression"
   ]
  },
  {
   "attachments": {},
   "cell_type": "markdown",
   "metadata": {},
   "source": [
    "# Get data\n"
   ]
  },
  {
   "cell_type": "code",
   "execution_count": 3,
   "metadata": {},
   "outputs": [
    {
     "name": "stdout",
     "output_type": "stream",
     "text": [
      "(2999, 10)\n"
     ]
    },
    {
     "data": {
      "text/html": [
       "<div>\n",
       "<style scoped>\n",
       "    .dataframe tbody tr th:only-of-type {\n",
       "        vertical-align: middle;\n",
       "    }\n",
       "\n",
       "    .dataframe tbody tr th {\n",
       "        vertical-align: top;\n",
       "    }\n",
       "\n",
       "    .dataframe thead th {\n",
       "        text-align: right;\n",
       "    }\n",
       "</style>\n",
       "<table border=\"1\" class=\"dataframe\">\n",
       "  <thead>\n",
       "    <tr style=\"text-align: right;\">\n",
       "      <th></th>\n",
       "      <th>Timestamp</th>\n",
       "      <th>Open</th>\n",
       "      <th>Close</th>\n",
       "      <th>High</th>\n",
       "      <th>Low</th>\n",
       "      <th>Amount</th>\n",
       "      <th>Volume</th>\n",
       "      <th>Returns</th>\n",
       "      <th>Return</th>\n",
       "      <th>Close_filtered</th>\n",
       "    </tr>\n",
       "    <tr>\n",
       "      <th>Date</th>\n",
       "      <th></th>\n",
       "      <th></th>\n",
       "      <th></th>\n",
       "      <th></th>\n",
       "      <th></th>\n",
       "      <th></th>\n",
       "      <th></th>\n",
       "      <th></th>\n",
       "      <th></th>\n",
       "      <th></th>\n",
       "    </tr>\n",
       "  </thead>\n",
       "  <tbody>\n",
       "    <tr>\n",
       "      <th>2023-01-13 16:00:00</th>\n",
       "      <td>1.673622e+09</td>\n",
       "      <td>18998.9</td>\n",
       "      <td>19260.5</td>\n",
       "      <td>19309.5</td>\n",
       "      <td>18993.4</td>\n",
       "      <td>1160.606223</td>\n",
       "      <td>2.224767e+07</td>\n",
       "      <td>0.013769</td>\n",
       "      <td>0.013769</td>\n",
       "      <td>19228.152618</td>\n",
       "    </tr>\n",
       "    <tr>\n",
       "      <th>2023-01-13 17:00:00</th>\n",
       "      <td>1.673626e+09</td>\n",
       "      <td>19260.6</td>\n",
       "      <td>19131.2</td>\n",
       "      <td>19271.6</td>\n",
       "      <td>19064.0</td>\n",
       "      <td>427.925713</td>\n",
       "      <td>8.189067e+06</td>\n",
       "      <td>-0.006713</td>\n",
       "      <td>-0.006713</td>\n",
       "      <td>19303.408560</td>\n",
       "    </tr>\n",
       "    <tr>\n",
       "      <th>2023-01-13 18:00:00</th>\n",
       "      <td>1.673629e+09</td>\n",
       "      <td>19131.2</td>\n",
       "      <td>19256.2</td>\n",
       "      <td>19392.2</td>\n",
       "      <td>19106.7</td>\n",
       "      <td>485.314231</td>\n",
       "      <td>9.359598e+06</td>\n",
       "      <td>0.006534</td>\n",
       "      <td>0.006534</td>\n",
       "      <td>19400.605391</td>\n",
       "    </tr>\n",
       "    <tr>\n",
       "      <th>2023-01-13 19:00:00</th>\n",
       "      <td>1.673633e+09</td>\n",
       "      <td>19256.2</td>\n",
       "      <td>19292.8</td>\n",
       "      <td>19384.4</td>\n",
       "      <td>19256.1</td>\n",
       "      <td>249.704990</td>\n",
       "      <td>4.822401e+06</td>\n",
       "      <td>0.001901</td>\n",
       "      <td>0.001901</td>\n",
       "      <td>19506.841217</td>\n",
       "    </tr>\n",
       "    <tr>\n",
       "      <th>2023-01-13 20:00:00</th>\n",
       "      <td>1.673636e+09</td>\n",
       "      <td>19292.8</td>\n",
       "      <td>19360.6</td>\n",
       "      <td>19369.0</td>\n",
       "      <td>19247.7</td>\n",
       "      <td>222.083237</td>\n",
       "      <td>4.286924e+06</td>\n",
       "      <td>0.003514</td>\n",
       "      <td>0.003514</td>\n",
       "      <td>19630.632425</td>\n",
       "    </tr>\n",
       "  </tbody>\n",
       "</table>\n",
       "</div>"
      ],
      "text/plain": [
       "                        Timestamp     Open    Close     High      Low  \\\n",
       "Date                                                                    \n",
       "2023-01-13 16:00:00  1.673622e+09  18998.9  19260.5  19309.5  18993.4   \n",
       "2023-01-13 17:00:00  1.673626e+09  19260.6  19131.2  19271.6  19064.0   \n",
       "2023-01-13 18:00:00  1.673629e+09  19131.2  19256.2  19392.2  19106.7   \n",
       "2023-01-13 19:00:00  1.673633e+09  19256.2  19292.8  19384.4  19256.1   \n",
       "2023-01-13 20:00:00  1.673636e+09  19292.8  19360.6  19369.0  19247.7   \n",
       "\n",
       "                          Amount        Volume   Returns    Return  \\\n",
       "Date                                                                 \n",
       "2023-01-13 16:00:00  1160.606223  2.224767e+07  0.013769  0.013769   \n",
       "2023-01-13 17:00:00   427.925713  8.189067e+06 -0.006713 -0.006713   \n",
       "2023-01-13 18:00:00   485.314231  9.359598e+06  0.006534  0.006534   \n",
       "2023-01-13 19:00:00   249.704990  4.822401e+06  0.001901  0.001901   \n",
       "2023-01-13 20:00:00   222.083237  4.286924e+06  0.003514  0.003514   \n",
       "\n",
       "                     Close_filtered  \n",
       "Date                                 \n",
       "2023-01-13 16:00:00    19228.152618  \n",
       "2023-01-13 17:00:00    19303.408560  \n",
       "2023-01-13 18:00:00    19400.605391  \n",
       "2023-01-13 19:00:00    19506.841217  \n",
       "2023-01-13 20:00:00    19630.632425  "
      ]
     },
     "execution_count": 3,
     "metadata": {},
     "output_type": "execute_result"
    }
   ],
   "source": [
    "symbol = \"BTC-USDT\"\n",
    "\n",
    "df_BTC = download_crypto_historical_data(symbol, \"1hour\").iloc[-3000:]\n",
    "df_BTC[\"Return\"] = df_BTC.Close.pct_change()\n",
    "df_BTC.dropna(inplace=True)\n",
    "\n",
    "df_BTC[\"Close_filtered\"] = savgol_filter(df_BTC[\"Close\"].values, 25, 2, mode=\"nearest\")\n",
    "print(df_BTC.shape)\n",
    "df_BTC.head()"
   ]
  },
  {
   "attachments": {},
   "cell_type": "markdown",
   "metadata": {},
   "source": [
    "# Trying to denoise.\n"
   ]
  },
  {
   "attachments": {},
   "cell_type": "markdown",
   "metadata": {},
   "source": [
    "## Normalize data\n"
   ]
  },
  {
   "cell_type": "code",
   "execution_count": null,
   "metadata": {},
   "outputs": [],
   "source": [
    "WINDOW = 50\n",
    "INDEXING_WINDOW = 1\n",
    "\n",
    "df_BTC[\"Close_filtered_norm\"] = (\n",
    "    df_BTC.Close_filtered - df_BTC.Close_filtered.mean()\n",
    ") / df_BTC.Close_filtered.std()\n",
    "df_BTC[\"Close_norm\"] = (df_BTC.Close - df_BTC.Close.mean()) / df_BTC.Close.std()"
   ]
  },
  {
   "attachments": {},
   "cell_type": "markdown",
   "metadata": {},
   "source": [
    "## Train and Test training\n"
   ]
  },
  {
   "cell_type": "code",
   "execution_count": null,
   "metadata": {},
   "outputs": [],
   "source": [
    "# df_BTC =  df_BTC.iloc[-5000:]\n",
    "\n",
    "X = np.array(\n",
    "    [\n",
    "        df_BTC.Close_norm.iloc[i : i + WINDOW].values.reshape(1, -1)\n",
    "        for i in range(len(df_BTC) - WINDOW)\n",
    "    ]\n",
    ")[:-INDEXING_WINDOW]\n",
    "y = np.array(\n",
    "    [\n",
    "        df_BTC.Close_filtered_norm.iloc[i : i + WINDOW].values.reshape(1, -1)\n",
    "        for i in range(len(df_BTC) - WINDOW)\n",
    "    ]\n",
    ")[INDEXING_WINDOW:]\n",
    "\n",
    "X_train, X_test, y_train, y_test = train_test_split(X, y, test_size=0.3, shuffle=True)"
   ]
  },
  {
   "cell_type": "code",
   "execution_count": null,
   "metadata": {},
   "outputs": [],
   "source": [
    "fig, ax_left = plt.subplots(1, figsize=(25, 8))\n",
    "\n",
    "ax_left.plot(\n",
    "    list(range(len(X[0][0]))),\n",
    "    X[0][0] * df_BTC.Close_filtered.std() + df_BTC.Close_filtered.mean(),\n",
    "    color=\"green\",\n",
    "    label=\"X1\",\n",
    ")\n",
    "ax_left.plot(\n",
    "    [i + INDEXING_WINDOW for i in range(len(X[INDEXING_WINDOW][0]))],\n",
    "    X[INDEXING_WINDOW][0] * df_BTC.Close_filtered.std() + df_BTC.Close_filtered.mean(),\n",
    "    color=\"green\",\n",
    "    label=\"X2\",\n",
    "    linestyle=\"--\",\n",
    ")\n",
    "ax_left.plot(\n",
    "    [i + INDEXING_WINDOW for i in range(len(y[INDEXING_WINDOW][0]))],\n",
    "    y[0][0] * df_BTC.Close_filtered.std() + df_BTC.Close_filtered.mean(),\n",
    "    color=\"blue\",\n",
    "    label=\"y\",\n",
    ")\n",
    "ax_left.legend(loc=\"upper left\")\n",
    "print(X_train.shape)"
   ]
  },
  {
   "attachments": {},
   "cell_type": "markdown",
   "metadata": {},
   "source": [
    "### Only dense\n"
   ]
  },
  {
   "cell_type": "code",
   "execution_count": null,
   "metadata": {},
   "outputs": [],
   "source": [
    "input_window = Input(shape=(1, WINDOW))\n",
    "encoded = Dense(10, activation=\"relu\")(input_window)\n",
    "inter_1 = Dense(30, activation=\"relu\")(encoded)\n",
    "decoded = Dense(WINDOW, activation=\"linear\")(inter_1)\n",
    "autoencoder = Model(input_window, decoded)\n",
    "encoder = Model(input_window, encoded)\n",
    "\n",
    "\n",
    "autoencoder.summary()\n",
    "autoencoder.compile(optimizer=\"adam\", loss=\"mse\")\n",
    "\n",
    "history = autoencoder.fit(\n",
    "    X,\n",
    "    y,\n",
    "    epochs=200,\n",
    "    batch_size=1024,\n",
    "    shuffle=True,\n",
    "    validation_split=0.2,\n",
    "    callbacks=[early_stop],\n",
    ")"
   ]
  },
  {
   "attachments": {},
   "cell_type": "markdown",
   "metadata": {},
   "source": [
    "### With LSTM\n"
   ]
  },
  {
   "cell_type": "code",
   "execution_count": null,
   "metadata": {},
   "outputs": [],
   "source": [
    "input_window = Input(shape=(1, WINDOW))\n",
    "encoded = LSTM(\n",
    "    4, kernel_initializer=\"he_uniform\", return_sequences=True, name=\"encoder_1\"\n",
    ")(input_window)\n",
    "encoded_2 = Dense(\n",
    "    10,\n",
    "    activation=\"relu\",\n",
    ")(encoded)\n",
    "norm_1 = BatchNormalization()(encoded_2)\n",
    "inter_1 = Dense(30, activation=\"relu\")(norm_1)\n",
    "norm_2 = BatchNormalization()(inter_1)\n",
    "decoded = Dense(WINDOW, activation=\"linear\")(norm_2)\n",
    "autoencoder = Model(input_window, decoded)\n",
    "encoder = Model(input_window, encoded)\n",
    "\n",
    "\n",
    "autoencoder.summary()\n",
    "autoencoder.compile(optimizer=\"adam\", loss=tf.keras.losses.MeanSquaredError())\n",
    "\n",
    "history = autoencoder.fit(\n",
    "    X,\n",
    "    y,\n",
    "    epochs=200,\n",
    "    batch_size=1024,\n",
    "    shuffle=True,\n",
    "    validation_split=0.2,\n",
    "    callbacks=[early_stop],\n",
    ")"
   ]
  },
  {
   "cell_type": "code",
   "execution_count": null,
   "metadata": {},
   "outputs": [],
   "source": [
    "predictions = autoencoder.predict(X)\n",
    "print(len(X))\n",
    "print(len(predictions))"
   ]
  },
  {
   "cell_type": "code",
   "execution_count": null,
   "metadata": {},
   "outputs": [],
   "source": [
    "from random import randint\n",
    "\n",
    "index = -randint(0, len(y) - 1)\n",
    "\n",
    "fig, ax_left = plt.subplots(1, figsize=(25, 8))\n",
    "\n",
    "\n",
    "ax_left.plot(\n",
    "    list(range(len(y[index][0]))),\n",
    "    y[index][0] * df_BTC.Close_filtered.std() + df_BTC.Close_filtered.mean(),\n",
    "    color=\"green\",\n",
    "    label=\"Y\",\n",
    ")\n",
    "ax_left.plot(\n",
    "    list(range(len(predictions[index][0]))),\n",
    "    savgol_filter(\n",
    "        predictions[index][0] * df_BTC.Close_filtered.std()\n",
    "        + df_BTC.Close_filtered.mean(),\n",
    "        25,\n",
    "        2,\n",
    "        mode=\"nearest\",\n",
    "    ),\n",
    "    color=\"blue\",\n",
    "    label=\"Y pred\",\n",
    ")\n",
    "ax_left.legend(loc=\"upper left\")"
   ]
  },
  {
   "cell_type": "code",
   "execution_count": null,
   "metadata": {},
   "outputs": [],
   "source": []
  }
 ],
 "metadata": {
  "kernelspec": {
   "display_name": ".venv",
   "language": "python",
   "name": "python3"
  },
  "language_info": {
   "codemirror_mode": {
    "name": "ipython",
    "version": 3
   },
   "file_extension": ".py",
   "mimetype": "text/x-python",
   "name": "python",
   "nbconvert_exporter": "python",
   "pygments_lexer": "ipython3",
   "version": "3.10.6"
  },
  "orig_nbformat": 4,
  "vscode": {
   "interpreter": {
    "hash": "52a13a540759e6d9afd9bdd2dad817344e46ac066a51db7cb6f6c1cf96042936"
   }
  }
 },
 "nbformat": 4,
 "nbformat_minor": 2
}
