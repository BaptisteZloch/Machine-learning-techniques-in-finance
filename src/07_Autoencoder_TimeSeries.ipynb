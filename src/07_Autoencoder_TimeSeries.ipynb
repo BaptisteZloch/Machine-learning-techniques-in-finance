{
 "cells": [
  {
   "cell_type": "markdown",
   "metadata": {},
   "source": [
    "# Import"
   ]
  },
  {
   "cell_type": "code",
   "execution_count": null,
   "metadata": {},
   "outputs": [],
   "source": [
    "import warnings\n",
    "warnings.filterwarnings('ignore')\n",
    "\n",
    "import numpy as np\n",
    "import pandas as pd\n",
    "from datetime import datetime\n",
    "from scipy.signal import savgol_filter\n",
    "\n",
    "import matplotlib.pyplot as plt\n",
    "\n",
    "from sklearn.model_selection import train_test_split\n",
    "from sklearn.preprocessing import MinMaxScaler, StandardScaler\n",
    "from sklearn.ensemble import RandomForestRegressor, RandomForestClassifier\n",
    "\n",
    "from keras.layers import Input, Dense, Conv1D, MaxPooling1D, UpSampling1D, BatchNormalization, LSTM, RepeatVector, ConvLSTM1D, Flatten\n",
    "from keras.models import Model\n",
    "from keras.models import model_from_json\n",
    "from keras import regularizers\n",
    "import keras\n",
    "import tensorflow as tf\n",
    "\n",
    "early_stop = tf.keras.callbacks.EarlyStopping(\n",
    "    monitor='val_loss', min_delta=1e-3, patience=8, verbose=1, mode='auto',\n",
    "    baseline=None, restore_best_weights=True)\n",
    "\n",
    "from modules.indicators import compute_lagging_regression"
   ]
  },
  {
   "cell_type": "markdown",
   "metadata": {},
   "source": [
    "# Get data"
   ]
  },
  {
   "cell_type": "code",
   "execution_count": null,
   "metadata": {},
   "outputs": [],
   "source": [
    "symbol= 'BTC-USDT'\n",
    "\n",
    "df_BTC = download_historical_data(symbol,'1hour').iloc[-3000:]\n",
    "df_BTC[\"Return\"] = df_BTC.Close.pct_change()\n",
    "df_BTC.dropna(inplace=True)\n",
    "\n",
    "df_BTC['Close_filtered'] = savgol_filter(df_BTC['Close'].values, 25, 2,mode='nearest')\n",
    "print(df_BTC.shape)\n",
    "df_BTC.head()"
   ]
  },
  {
   "cell_type": "markdown",
   "metadata": {},
   "source": [
    "# Trying to denoise."
   ]
  },
  {
   "cell_type": "markdown",
   "metadata": {},
   "source": [
    "## Normalize data"
   ]
  },
  {
   "cell_type": "code",
   "execution_count": null,
   "metadata": {},
   "outputs": [],
   "source": [
    "WINDOW = 50\n",
    "INDEXING_WINDOW = 1\n",
    "\n",
    "df_BTC['Close_filtered_norm'] = (df_BTC.Close_filtered-df_BTC.Close_filtered.mean())/df_BTC.Close_filtered.std()\n",
    "df_BTC['Close_norm'] = (df_BTC.Close-df_BTC.Close.mean())/df_BTC.Close.std()"
   ]
  },
  {
   "cell_type": "markdown",
   "metadata": {},
   "source": [
    "## Train and Test training"
   ]
  },
  {
   "cell_type": "code",
   "execution_count": null,
   "metadata": {},
   "outputs": [],
   "source": [
    "#df_BTC =  df_BTC.iloc[-5000:]\n",
    "\n",
    "X = np.array([df_BTC.Close_norm.iloc[i:i+WINDOW].values.reshape(1,-1) for i in range(len(df_BTC)-WINDOW)])[:-INDEXING_WINDOW]\n",
    "y = np.array([df_BTC.Close_filtered_norm.iloc[i:i+WINDOW].values.reshape(1,-1) for i in range(len(df_BTC)-WINDOW)])[INDEXING_WINDOW:]\n",
    "\n",
    "X_train, X_test, y_train, y_test = train_test_split(X,y,test_size=0.3, shuffle=True)"
   ]
  },
  {
   "cell_type": "code",
   "execution_count": null,
   "metadata": {},
   "outputs": [],
   "source": [
    "fig, ax_left = plt.subplots(1, figsize=(25,8))\n",
    "\n",
    "ax_left.plot(list(range(len(X[0][0]))),X[0][0]*df_BTC.Close_filtered.std()+df_BTC.Close_filtered.mean(),color='green',label='X1')\n",
    "ax_left.plot([i+INDEXING_WINDOW for i in range(len(X[INDEXING_WINDOW][0]))],X[INDEXING_WINDOW][0]*df_BTC.Close_filtered.std()+df_BTC.Close_filtered.mean(),color='green',label='X2', linestyle='--')\n",
    "ax_left.plot([i+INDEXING_WINDOW for i in range(len(y[INDEXING_WINDOW][0]))],y[0][0]*df_BTC.Close_filtered.std()+df_BTC.Close_filtered.mean(),color='blue',label='y')\n",
    "ax_left.legend(loc=\"upper left\")\n",
    "print(X_train.shape)"
   ]
  },
  {
   "cell_type": "markdown",
   "metadata": {},
   "source": [
    "### Only dense"
   ]
  },
  {
   "cell_type": "code",
   "execution_count": null,
   "metadata": {},
   "outputs": [],
   "source": [
    "input_window = Input(shape=(1,WINDOW))\n",
    "encoded = Dense(10, activation='relu')(input_window)\n",
    "inter_1 = Dense(30, activation='relu')(encoded)\n",
    "decoded = Dense(WINDOW, activation='linear')(inter_1)\n",
    "autoencoder = Model(input_window, decoded)\n",
    "encoder = Model(input_window, encoded)\n",
    "\n",
    "\n",
    "autoencoder.summary()\n",
    "autoencoder.compile(optimizer='adam', loss='mse')\n",
    "\n",
    "history = autoencoder.fit(X, y,\n",
    "                epochs=200,\n",
    "                batch_size=1024,\n",
    "                shuffle=True,\n",
    "                validation_split=0.2,\n",
    "                callbacks=[early_stop])"
   ]
  },
  {
   "cell_type": "markdown",
   "metadata": {},
   "source": [
    "### With LSTM"
   ]
  },
  {
   "cell_type": "code",
   "execution_count": null,
   "metadata": {},
   "outputs": [],
   "source": [
    "input_window = Input(shape=(1,WINDOW))\n",
    "encoded = LSTM(4, kernel_initializer='he_uniform', return_sequences=True, name='encoder_1')(input_window)\n",
    "encoded_2 = Dense(10, activation='relu',)(encoded)\n",
    "norm_1 = BatchNormalization()(encoded_2)\n",
    "inter_1 = Dense(30, activation='relu')(norm_1)\n",
    "norm_2 = BatchNormalization()(inter_1)\n",
    "decoded = Dense(WINDOW, activation='linear')(norm_2)\n",
    "autoencoder = Model(input_window, decoded)\n",
    "encoder = Model(input_window, encoded)\n",
    "\n",
    "\n",
    "autoencoder.summary()\n",
    "autoencoder.compile(optimizer='adam', loss=tf.keras.losses.MeanSquaredError())\n",
    "\n",
    "history = autoencoder.fit(X, y,\n",
    "                epochs=200,\n",
    "                batch_size=1024,\n",
    "                shuffle=True,\n",
    "                validation_split=0.2,\n",
    "                callbacks=[early_stop])"
   ]
  },
  {
   "cell_type": "code",
   "execution_count": null,
   "metadata": {},
   "outputs": [],
   "source": [
    "predictions = autoencoder.predict(X)\n",
    "print(len(X))\n",
    "print(len(predictions))"
   ]
  },
  {
   "cell_type": "code",
   "execution_count": null,
   "metadata": {},
   "outputs": [],
   "source": [
    "from random import randint\n",
    "index = -randint(0,len(y)-1)\n",
    "\n",
    "fig, ax_left = plt.subplots(1, figsize=(25,8))\n",
    "\n",
    "\n",
    "ax_left.plot(list(range(len(y[index][0]))),y[index][0]*df_BTC.Close_filtered.std()+df_BTC.Close_filtered.mean(),color='green',label='Y')\n",
    "ax_left.plot(list(range(len(predictions[index][0]))),savgol_filter(predictions[index][0]*df_BTC.Close_filtered.std()+df_BTC.Close_filtered.mean(), 25, 2,mode='nearest'),color='blue',label='Y pred')\n",
    "ax_left.legend(loc=\"upper left\")"
   ]
  },
  {
   "cell_type": "code",
   "execution_count": null,
   "metadata": {},
   "outputs": [],
   "source": []
  }
 ],
 "metadata": {
  "kernelspec": {
   "display_name": ".venv",
   "language": "python",
   "name": "python3"
  },
  "language_info": {
   "codemirror_mode": {
    "name": "ipython",
    "version": 3
   },
   "file_extension": ".py",
   "mimetype": "text/x-python",
   "name": "python",
   "nbconvert_exporter": "python",
   "pygments_lexer": "ipython3",
   "version": "3.10.6"
  },
  "orig_nbformat": 4,
  "vscode": {
   "interpreter": {
    "hash": "52a13a540759e6d9afd9bdd2dad817344e46ac066a51db7cb6f6c1cf96042936"
   }
  }
 },
 "nbformat": 4,
 "nbformat_minor": 2
}
