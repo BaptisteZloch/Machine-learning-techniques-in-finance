{
 "cells": [
  {
   "attachments": {},
   "cell_type": "markdown",
   "metadata": {},
   "source": [
    "# Regression"
   ]
  },
  {
   "cell_type": "code",
   "execution_count": null,
   "metadata": {},
   "outputs": [],
   "source": [
    "from pygam import LinearGAM, s, f\n",
    "\n",
    "gam = LinearGAM(s(0, constraints='monotonic_inc') ,verbose=True).gridsearch(X_train, y_train.reshape(-1))\n",
    "\n",
    "from sklearn.metrics import mean_squared_error, mean_absolute_error, mean_absolute_percentage_error\n",
    "\n",
    "\n",
    "y_test_pred_inv = label_scaler.inverse_transform(gam.predict(X_test).reshape(-1,1)).reshape(1,-1)[0]\n",
    "y_test_inv = label_scaler.inverse_transform(y_test).reshape(1,-1)[0]\n",
    "\n",
    "print('# On the test dataset : ')\n",
    "print(f\"MAE: {mean_absolute_error(y_test_inv, y_test_pred_inv)}\")\n",
    "print(f\"MSE: {mean_squared_error(y_test_inv, y_test_pred_inv)}\")\n",
    "print(f\"MAPE: {mean_absolute_percentage_error(y_test_inv, y_test_pred_inv)*100} %\")\n",
    "\n",
    "\n",
    "y_pred_inv = label_scaler.inverse_transform(gam.predict(X_scaled).reshape(1,-1)).reshape(1,-1)[0]\n",
    "y_inv = label_scaler.inverse_transform(y_scaled).reshape(1,-1)[0]\n",
    "\n",
    "print('# On whole dataset : ')\n",
    "print(f\"MAE: {mean_absolute_error(y_inv, y_pred_inv)}\")\n",
    "print(f\"MSE: {mean_squared_error(y_inv, y_pred_inv)}\")\n",
    "print(f\"MAPE: {mean_absolute_percentage_error(y_inv, y_pred_inv)*100} %\")"
   ]
  },
  {
   "attachments": {},
   "cell_type": "markdown",
   "metadata": {},
   "source": [
    "# Classification"
   ]
  },
  {
   "cell_type": "code",
   "execution_count": null,
   "metadata": {},
   "outputs": [],
   "source": [
    "from pygam import LogisticGAM, s, f\n",
    "gam = LogisticGAM(s(0, constraints='monotonic_inc') ,verbose=True).gridsearch(X_train, y_train)\n",
    "\n",
    "\n",
    "gam.accuracy(X_test, y_test)"
   ]
  }
 ],
 "metadata": {
  "kernelspec": {
   "display_name": ".venv",
   "language": "python",
   "name": "python3"
  },
  "language_info": {
   "name": "python",
   "version": "3.10.6"
  },
  "orig_nbformat": 4,
  "vscode": {
   "interpreter": {
    "hash": "52a13a540759e6d9afd9bdd2dad817344e46ac066a51db7cb6f6c1cf96042936"
   }
  }
 },
 "nbformat": 4,
 "nbformat_minor": 2
}
