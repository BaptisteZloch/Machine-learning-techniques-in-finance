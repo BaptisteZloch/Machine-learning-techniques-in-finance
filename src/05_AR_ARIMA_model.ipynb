{
 "cells": [
  {
   "cell_type": "code",
   "execution_count": null,
   "metadata": {},
   "outputs": [],
   "source": []
  }
 ],
 "metadata": {
  "kernelspec": {
   "display_name": ".venv",
   "language": "python",
   "name": "python3"
  },
  "language_info": {
   "name": "python",
   "version": "3.10.6"
  },
  "orig_nbformat": 4,
  "vscode": {
   "interpreter": {
    "hash": "52a13a540759e6d9afd9bdd2dad817344e46ac066a51db7cb6f6c1cf96042936"
   }
  }
 },
 "nbformat": 4,
 "nbformat_minor": 2
}
